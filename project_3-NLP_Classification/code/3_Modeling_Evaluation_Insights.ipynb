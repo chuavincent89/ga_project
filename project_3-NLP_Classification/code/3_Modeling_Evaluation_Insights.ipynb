{
 "cells": [
  {
   "cell_type": "markdown",
   "id": "06a84ff3",
   "metadata": {},
   "source": [
    "## Table of Contents"
   ]
  },
  {
   "cell_type": "markdown",
   "id": "b819e2fc",
   "metadata": {},
   "source": [
    "*__(Notebook: 1_Data_Gathering)__*\n",
    "- 1.0 Executive Summary\n",
    "\n",
    "- 2.0 Imports Data and Libraries\n",
    "    - 2.1 Scrapping Data: PushShift Reddit API\n",
    "    - 2.2 Export Raw Data\n",
    "\n",
    "*__(Notebook: 2_Data_Wrangling_EDA)__*\n",
    "\n",
    "- 3.0 Data Cleaning\n",
    "    - 3.1 Missing Values\n",
    "    - 3.2 Duplicates\n",
    "    - 3.3 Clean Irrelevant Rows\n",
    "    - 3.4 Clean Newline and Emoji\n",
    "    - 3.5 Clean HTML Encoded Characters\n",
    "    - 3.6 Clean URL Links\n",
    "    \n",
    "- 4.0 Data Preprocessing\n",
    "    - 4.1 Word Tokenizing Lemmatizing and Stemming\n",
    "    - 4.2 Word Count and Post Length\n",
    "    - 4.3 Data Dictionary\n",
    "\n",
    "- 5.0 Exploratory Data Analysis\n",
    "    - 5.1 Target Response: Subreddits\n",
    "    - 5.2 Number of Comments\n",
    "    - 5.3 Score\n",
    "    - 5.4 Upvote Ratio\n",
    "    - 5.5 Title Length and Word Count\n",
    "    - 5.6 Selftext Length and Word Count\n",
    "    - 5.7 Top Words Analysis\n",
    "    - 5.8 Combine and Export Cleaned Data\n",
    "    - 5.9 Additional: Sentiment Analysis\n",
    "\n",
    "*__(Notebook: 3_Modeling_Evaluation_Insights)__*\n",
    "\n",
    "- [6.0 Model Preparation](#6.0-Model-Preparation)\n",
    "    - [6.1 Baseline Model](#6.1-Baseline-Model)\n",
    "    - [6.2 Train Test Split](#6.2-Train-Test-Split)\n",
    "    \n",
    "- [7.0 Modeling and Evaluation](#7.0-Modeling-and-Evaluation)\n",
    "    - [7.1 Modeling Approach](#7.1-Modeling-Approach)\n",
    "    - [7.2 Evaluation Approach](#7.2-Evaluation-Approach)\n",
    "    - [7.3 Logistic Regression](#7.3-Logistic-Regression)\n",
    "    - [7.4 Multinomial Naive Bayes](#7.4-Multinomial-Naive-Bayes)\n",
    "    - [7.5 Random Forest Classifier](#7.5-Random-Forest-Classifier)\n",
    "    - [7.6 Final Model](#7.6-Final-Model)\n",
    "    - [7.7 Model Insights](#7.7-Model-Insights)\n",
    "\n",
    "- [8.0 Conclusions and Recommendations](#8.0-Conclusions-and-Recommendations)\n",
    "    - [8.1 Findings](#8.1-Findings)\n",
    "    - [8.2 Recommendations](#8.2-Recommendations)\n",
    "    - [8.3 Future Enhancements](#8.3-Future-Enhancements)\n",
    "    - [8.4 Citations](#8.4-Citations)"
   ]
  },
  {
   "cell_type": "markdown",
   "id": "4066ea6a",
   "metadata": {},
   "source": [
    "## Imports Libraries"
   ]
  },
  {
   "cell_type": "code",
   "execution_count": 1,
   "id": "a007a7a8",
   "metadata": {},
   "outputs": [],
   "source": [
    "# for data manipulation\n",
    "import pandas as pd\n",
    "import numpy as np\n",
    "\n",
    "# for visualization\n",
    "import matplotlib.pyplot as plt\n",
    "import seaborn as sns\n",
    "from wordcloud import WordCloud, STOPWORDS\n",
    "from matplotlib_venn import venn2\n",
    "\n",
    "# for text preprocessing\n",
    "from nltk.corpus import stopwords as sw\n",
    "\n",
    "# for feature extraction\n",
    "from sklearn.feature_extraction.text import CountVectorizer, TfidfVectorizer\n",
    "\n",
    "# for data modeling\n",
    "from sklearn.model_selection import train_test_split, GridSearchCV\n",
    "from sklearn.pipeline import Pipeline\n",
    "from sklearn.linear_model import LogisticRegression\n",
    "from sklearn.naive_bayes import MultinomialNB\n",
    "from sklearn.ensemble import RandomForestClassifier\n",
    "\n",
    "# for data evaluation\n",
    "from sklearn.metrics import confusion_matrix, plot_confusion_matrix, accuracy_score, precision_score, \\\n",
    "                            recall_score, f1_score, plot_roc_curve, roc_auc_score\n"
   ]
  },
  {
   "cell_type": "markdown",
   "id": "3b613832",
   "metadata": {},
   "source": [
    "### Create Functions"
   ]
  },
  {
   "cell_type": "code",
   "execution_count": 2,
   "id": "700ff57e",
   "metadata": {},
   "outputs": [],
   "source": [
    "# create a function to run the metrics and store it in dataframe\n",
    "evaluation_list = []\n",
    "\n",
    "def run_score(fit_model, vec, model):\n",
    "    \n",
    "    summary_dict = {}\n",
    "    \n",
    "    y_pred = fit_model.predict(X_test)\n",
    "    train = fit_model.score(X_train, y_train)\n",
    "    test = fit_model.score(X_test, y_test)\n",
    "    cv_score = fit_model.best_score_\n",
    "    roc_auc = roc_auc_score(y_test, fit_model.predict_proba(X_test)[:,1])\n",
    "\n",
    "    # store the results in summary dictionary\n",
    "    summary_dict['model'] = model\n",
    "    summary_dict['vectorizer'] = vec\n",
    "    summary_dict['cross_val_score'] = cv_score\n",
    "    summary_dict['train accuracy'] = train\n",
    "    summary_dict['test accuracy'] = test\n",
    "    summary_dict['precision'] = precision_score(y_test, y_pred)\n",
    "    summary_dict['recall'] = recall_score(y_test, y_pred)\n",
    "    summary_dict['f1_score'] = f1_score(y_test, y_pred)\n",
    "    summary_dict['roc_auc'] = roc_auc\n",
    "    \n",
    "    evaluation_list.append(summary_dict)\n",
    "    \n",
    "    # print summarize results\n",
    "    print(f\"====== {model}'s Metrics ======\")\n",
    "    print(f\"Train Score: {train}\")\n",
    "    print(f\"Test Score: {test}\")    \n",
    "    print(f\"Precision Score: {precision_score(y_test, y_pred)}\")\n",
    "    print(f\"Recall Score: {recall_score(y_test, y_pred)}\")\n",
    "    print(f\"f1-Score: {f1_score(y_test, y_pred)}\")\n",
    "    print(f\"roc_auc Score: {roc_auc}\")\n",
    "    \n",
    "    print()\n",
    "    tn, fp, fn, tp = confusion_matrix(y_test, y_pred).ravel()\n",
    "    \n",
    "    print('== confusion matrix ==')\n",
    "    print(f\"True Negatives: {tn}\")\n",
    "    print(f\"False Positives: {fp}\")\n",
    "    print(f\"False Negatives: {fn}\")\n",
    "    print(f\"True Positives: {tp}\")"
   ]
  },
  {
   "cell_type": "code",
   "execution_count": 3,
   "id": "8f232dfc",
   "metadata": {},
   "outputs": [],
   "source": [
    "# create function to subplot top words with highest probabilities\n",
    "def subplot_top_proba(df1, df2, n=20, title=None):\n",
    "\n",
    "    df_1 = df1.sort_values('prob', ascending=False).head(n)\n",
    "    df_2 = df2.sort_values('prob', ascending=False).head(n)\n",
    "\n",
    "    plt.figure(figsize=(18,10))\n",
    "    sns.set(font_scale = 1.5)\n",
    "\n",
    "    palette1 = sns.color_palette(\"flare\",n_colors=n)\n",
    "    palette1.reverse()\n",
    "    palette2 = sns.color_palette(\"Blues_d\",n_colors=n)\n",
    "    palette2.reverse()\n",
    "\n",
    "    ax1 = plt.subplot(1,2,1)\n",
    "    ax1 = sns.barplot(y='index',x='prob', data=df_1, palette=palette1)\n",
    "    ax1 = plt.xlabel('Probabilities',fontsize = 20)\n",
    "    ax1 = plt.title(\"r/yoga\", fontsize = 20)\n",
    "\n",
    "    ax2 = plt.subplot(1,2,2)\n",
    "    ax2 = sns.barplot(y='index',x='prob', data=df_2, palette=palette2)\n",
    "    ax2 = plt.xlabel(\"Probabilities\", fontsize = 20)\n",
    "    ax2 = plt.title(\"r/Meditation\", fontsize = 20)\n",
    "    \n",
    "    plt.suptitle(title, fontsize=25)\n",
    "    plt.subplots_adjust(wspace=0.4)\n",
    "    plt.savefig('../images/top_predictors.png',bbox_inches='tight');    "
   ]
  },
  {
   "cell_type": "markdown",
   "id": "12fd3d4d",
   "metadata": {},
   "source": [
    "---"
   ]
  },
  {
   "cell_type": "markdown",
   "id": "5109405d",
   "metadata": {},
   "source": [
    "### Load Cleaned and Combined Data"
   ]
  },
  {
   "cell_type": "code",
   "execution_count": 4,
   "id": "dd404785",
   "metadata": {},
   "outputs": [],
   "source": [
    "# load the cleaned and combined datasets\n",
    "yoga_medit = pd.read_csv('../datasets/yoga_medit.csv')"
   ]
  },
  {
   "cell_type": "code",
   "execution_count": 5,
   "id": "c05d0af4",
   "metadata": {},
   "outputs": [
    {
     "name": "stdout",
     "output_type": "stream",
     "text": [
      "(1679, 22)\n"
     ]
    },
    {
     "data": {
      "text/html": [
       "<div>\n",
       "<style scoped>\n",
       "    .dataframe tbody tr th:only-of-type {\n",
       "        vertical-align: middle;\n",
       "    }\n",
       "\n",
       "    .dataframe tbody tr th {\n",
       "        vertical-align: top;\n",
       "    }\n",
       "\n",
       "    .dataframe thead th {\n",
       "        text-align: right;\n",
       "    }\n",
       "</style>\n",
       "<table border=\"1\" class=\"dataframe\">\n",
       "  <thead>\n",
       "    <tr style=\"text-align: right;\">\n",
       "      <th></th>\n",
       "      <th>is_yoga</th>\n",
       "      <th>title</th>\n",
       "      <th>selftext</th>\n",
       "      <th>is_self</th>\n",
       "      <th>num_comments</th>\n",
       "      <th>created_utc</th>\n",
       "      <th>created</th>\n",
       "      <th>removed_by_category</th>\n",
       "      <th>author</th>\n",
       "      <th>permalink</th>\n",
       "      <th>...</th>\n",
       "      <th>clean_title</th>\n",
       "      <th>clean_selftext</th>\n",
       "      <th>combine_text</th>\n",
       "      <th>lem_title</th>\n",
       "      <th>lem_selftext</th>\n",
       "      <th>lem_combine_text</th>\n",
       "      <th>title_length</th>\n",
       "      <th>title_wcount</th>\n",
       "      <th>selftext_length</th>\n",
       "      <th>selftext_wcount</th>\n",
       "    </tr>\n",
       "  </thead>\n",
       "  <tbody>\n",
       "    <tr>\n",
       "      <th>0</th>\n",
       "      <td>1</td>\n",
       "      <td>Extremely sore after my first hot vinyasa class</td>\n",
       "      <td>I am super out of shape so I am 90% sure that ...</td>\n",
       "      <td>True</td>\n",
       "      <td>0</td>\n",
       "      <td>1640903618</td>\n",
       "      <td>2021-12-31 06:33:38</td>\n",
       "      <td>NaN</td>\n",
       "      <td>meggriffinsglasses</td>\n",
       "      <td>/r/yoga/comments/rse7eh/extremely_sore_after_m...</td>\n",
       "      <td>...</td>\n",
       "      <td>extremely sore after my first hot vinyasa class</td>\n",
       "      <td>i am super out of shape so i am 90 sure that i...</td>\n",
       "      <td>extremely sore after my first hot vinyasa clas...</td>\n",
       "      <td>extremely sore hot vinyasa class</td>\n",
       "      <td>super shape 90 sure issue wanted know normal p...</td>\n",
       "      <td>extremely sore hot vinyasa class super shape 9...</td>\n",
       "      <td>47</td>\n",
       "      <td>8</td>\n",
       "      <td>1041</td>\n",
       "      <td>222</td>\n",
       "    </tr>\n",
       "    <tr>\n",
       "      <th>1</th>\n",
       "      <td>1</td>\n",
       "      <td>Online new year's offerings?</td>\n",
       "      <td>Hello yogis,\\n\\nAnybody aware of interesting y...</td>\n",
       "      <td>True</td>\n",
       "      <td>0</td>\n",
       "      <td>1640897639</td>\n",
       "      <td>2021-12-31 04:53:59</td>\n",
       "      <td>NaN</td>\n",
       "      <td>Friendly_Popo</td>\n",
       "      <td>/r/yoga/comments/rsbwvy/online_new_years_offer...</td>\n",
       "      <td>...</td>\n",
       "      <td>online new years offerings</td>\n",
       "      <td>hello yogis anybody aware of interesting yoga ...</td>\n",
       "      <td>online new years offerings hello yogis anybody...</td>\n",
       "      <td>online new year offering</td>\n",
       "      <td>hello yogi anybody aware interesting offering ...</td>\n",
       "      <td>online new year offering hello yogi anybody aw...</td>\n",
       "      <td>26</td>\n",
       "      <td>4</td>\n",
       "      <td>464</td>\n",
       "      <td>76</td>\n",
       "    </tr>\n",
       "    <tr>\n",
       "      <th>2</th>\n",
       "      <td>1</td>\n",
       "      <td>Yoga with COVID</td>\n",
       "      <td>Hi all. \\n\\nI was diagnosed with COVID last we...</td>\n",
       "      <td>True</td>\n",
       "      <td>0</td>\n",
       "      <td>1640895222</td>\n",
       "      <td>2021-12-31 04:13:42</td>\n",
       "      <td>NaN</td>\n",
       "      <td>dreamingofcupcakes</td>\n",
       "      <td>/r/yoga/comments/rsazdv/yoga_with_covid/</td>\n",
       "      <td>...</td>\n",
       "      <td>yoga with covid</td>\n",
       "      <td>hi all i was diagnosed with covid last week an...</td>\n",
       "      <td>yoga with covid hi all i was diagnosed with co...</td>\n",
       "      <td>covid</td>\n",
       "      <td>hi diagnosed covid week really giving real bad...</td>\n",
       "      <td>covid hi diagnosed covid week really giving re...</td>\n",
       "      <td>15</td>\n",
       "      <td>3</td>\n",
       "      <td>526</td>\n",
       "      <td>92</td>\n",
       "    </tr>\n",
       "  </tbody>\n",
       "</table>\n",
       "<p>3 rows × 22 columns</p>\n",
       "</div>"
      ],
      "text/plain": [
       "   is_yoga                                            title  \\\n",
       "0        1  Extremely sore after my first hot vinyasa class   \n",
       "1        1                     Online new year's offerings?   \n",
       "2        1                                  Yoga with COVID   \n",
       "\n",
       "                                            selftext  is_self  num_comments  \\\n",
       "0  I am super out of shape so I am 90% sure that ...     True             0   \n",
       "1  Hello yogis,\\n\\nAnybody aware of interesting y...     True             0   \n",
       "2  Hi all. \\n\\nI was diagnosed with COVID last we...     True             0   \n",
       "\n",
       "   created_utc              created  removed_by_category              author  \\\n",
       "0   1640903618  2021-12-31 06:33:38                  NaN  meggriffinsglasses   \n",
       "1   1640897639  2021-12-31 04:53:59                  NaN       Friendly_Popo   \n",
       "2   1640895222  2021-12-31 04:13:42                  NaN  dreamingofcupcakes   \n",
       "\n",
       "                                           permalink  ...  \\\n",
       "0  /r/yoga/comments/rse7eh/extremely_sore_after_m...  ...   \n",
       "1  /r/yoga/comments/rsbwvy/online_new_years_offer...  ...   \n",
       "2           /r/yoga/comments/rsazdv/yoga_with_covid/  ...   \n",
       "\n",
       "                                       clean_title  \\\n",
       "0  extremely sore after my first hot vinyasa class   \n",
       "1                       online new years offerings   \n",
       "2                                  yoga with covid   \n",
       "\n",
       "                                      clean_selftext  \\\n",
       "0  i am super out of shape so i am 90 sure that i...   \n",
       "1  hello yogis anybody aware of interesting yoga ...   \n",
       "2  hi all i was diagnosed with covid last week an...   \n",
       "\n",
       "                                        combine_text  \\\n",
       "0  extremely sore after my first hot vinyasa clas...   \n",
       "1  online new years offerings hello yogis anybody...   \n",
       "2  yoga with covid hi all i was diagnosed with co...   \n",
       "\n",
       "                          lem_title  \\\n",
       "0  extremely sore hot vinyasa class   \n",
       "1          online new year offering   \n",
       "2                             covid   \n",
       "\n",
       "                                        lem_selftext  \\\n",
       "0  super shape 90 sure issue wanted know normal p...   \n",
       "1  hello yogi anybody aware interesting offering ...   \n",
       "2  hi diagnosed covid week really giving real bad...   \n",
       "\n",
       "                                    lem_combine_text title_length  \\\n",
       "0  extremely sore hot vinyasa class super shape 9...           47   \n",
       "1  online new year offering hello yogi anybody aw...           26   \n",
       "2  covid hi diagnosed covid week really giving re...           15   \n",
       "\n",
       "  title_wcount  selftext_length  selftext_wcount  \n",
       "0            8             1041              222  \n",
       "1            4              464               76  \n",
       "2            3              526               92  \n",
       "\n",
       "[3 rows x 22 columns]"
      ]
     },
     "execution_count": 5,
     "metadata": {},
     "output_type": "execute_result"
    }
   ],
   "source": [
    "print(yoga_medit.shape)\n",
    "yoga_medit.head(3)"
   ]
  },
  {
   "cell_type": "markdown",
   "id": "97ef619b",
   "metadata": {},
   "source": [
    "## 6.0 Model Preparation"
   ]
  },
  {
   "cell_type": "code",
   "execution_count": 6,
   "id": "90b66093",
   "metadata": {},
   "outputs": [
    {
     "data": {
      "text/plain": [
       "0    0.586063\n",
       "1    0.413937\n",
       "Name: is_yoga, dtype: float64"
      ]
     },
     "execution_count": 6,
     "metadata": {},
     "output_type": "execute_result"
    }
   ],
   "source": [
    "# check for imbalance classes\n",
    "yoga_medit['is_yoga'].value_counts(normalize=True)"
   ]
  },
  {
   "cell_type": "markdown",
   "id": "4f3471ab",
   "metadata": {},
   "source": [
    "The final dataset shows that the data is imbalance classes, which `is_yoga` consists of 1 = 41.4% and 0 = 58.6%, hence we need to stratify the data during our train-test-split later."
   ]
  },
  {
   "cell_type": "code",
   "execution_count": 7,
   "id": "bf117599",
   "metadata": {},
   "outputs": [],
   "source": [
    "# split data into X and y\n",
    "X = yoga_medit['lem_combine_text']\n",
    "y = yoga_medit['is_yoga']"
   ]
  },
  {
   "cell_type": "markdown",
   "id": "4987f377",
   "metadata": {},
   "source": [
    "### 6.1 Baseline Model"
   ]
  },
  {
   "cell_type": "markdown",
   "id": "8c323ca8",
   "metadata": {},
   "source": [
    "We need to calculate baseline accuracy in order to tell if our model is better than null model (blindly predicting everything as the majority class)."
   ]
  },
  {
   "cell_type": "code",
   "execution_count": 8,
   "id": "a1ff21f7",
   "metadata": {},
   "outputs": [
    {
     "data": {
      "text/plain": [
       "0    0.586063\n",
       "1    0.413937\n",
       "Name: is_yoga, dtype: float64"
      ]
     },
     "execution_count": 8,
     "metadata": {},
     "output_type": "execute_result"
    }
   ],
   "source": [
    "# Baseline Accuracy\n",
    "baseline_model = yoga_medit['is_yoga'].value_counts(normalize=True)\n",
    "baseline_model"
   ]
  },
  {
   "cell_type": "markdown",
   "id": "5bebd9bc",
   "metadata": {},
   "source": [
    "In this case, base on above *value_counts()* our baseline accuracy is 58.6% and we can simply predict everything as the majority class and it will give us 58.6% accuracy! So we most likely want to use precision, recall or specificity metrics instead."
   ]
  },
  {
   "cell_type": "markdown",
   "id": "0faa4f2d",
   "metadata": {},
   "source": [
    "### 6.2 Train Test Split"
   ]
  },
  {
   "cell_type": "code",
   "execution_count": 9,
   "id": "e410d149",
   "metadata": {},
   "outputs": [],
   "source": [
    "# split the datasets into train and test sets\n",
    "X_train, X_test, y_train, y_test = train_test_split(X,\n",
    "                                                    y,\n",
    "                                                    test_size=0.30,\n",
    "                                                    random_state=42,\n",
    "                                                    stratify=y)"
   ]
  },
  {
   "cell_type": "code",
   "execution_count": 10,
   "id": "894ed35d",
   "metadata": {},
   "outputs": [
    {
     "name": "stdout",
     "output_type": "stream",
     "text": [
      "X_train shape: (1175,)\n",
      "X_test shape: (504,)\n",
      "y_train shape: (1175,)\n",
      "y_test shape: (504,)\n"
     ]
    }
   ],
   "source": [
    "# check shape of the train and test sets\n",
    "print(f'X_train shape: {X_train.shape}')\n",
    "print(f'X_test shape: {X_test.shape}')\n",
    "print(f'y_train shape: {y_train.shape}')\n",
    "print(f'y_test shape: {y_test.shape}')"
   ]
  },
  {
   "cell_type": "markdown",
   "id": "28abd98e",
   "metadata": {},
   "source": [
    "## 7.0 Modeling and Evaluation"
   ]
  },
  {
   "cell_type": "markdown",
   "id": "a247f327",
   "metadata": {},
   "source": [
    "### 7.1 Modeling Approach"
   ]
  },
  {
   "cell_type": "markdown",
   "id": "79a864e4",
   "metadata": {},
   "source": [
    "For our modeling approach, we used `Pipeline` from sklearn to apply a list of transforms and a final estimator for each `gridsearchcv` hyperparameters tuning. The purpose of the pipeline is to assemble several steps that can be cross-validated together while setting different parameters. For this, it enables setting parameters of the various steps.\n",
    "\n",
    "Transformers that we used to fit and transform our textual data are `CountVectorizer` and `TfidfVectorizer`.\n",
    "\n",
    "`CountVectorizer` is the easiest way for us to convert text data into a structured, numeric `X` dataframe is to use `CountVectorizer`. As the name suggest, it count up the numbers of token obsered in the corpus and create a column also known as vector that stored these tokens. These tokens are now stored as __bag-of-words__. __bag-of-words__ representations discard grammar, order, and structure in the text but track occurences. \n",
    "\n",
    "This implementation produces a sparse representation of the counts using scipy.sparse.csr_matrix. A sparse matrix is a matrix is comprised of mostly zero values. By only storing the non-zero elements in our computer's memory, we can save a lot of space.\n",
    "\n",
    "`TfidfVectorizer` is an abbreviation for Term Frequency-Inverse Document Frequency (TF-IDF) Vectorizer. It is a score that tells us which words are important to one document, relative to all other documents. Words that occur often in one document but don't occur in many documents contain more predictive power. Variations of the TD-IDF score are often used by search engines as a central tool in scoring and ranking a document's relevance given a user query.\n",
    "\n",
    "\n",
    "While the estimator or models that we used are `Logistic Regression`, `Multinomial Naive Bayes` and `Random Forest Classifier`.\n"
   ]
  },
  {
   "cell_type": "markdown",
   "id": "6a4c7213",
   "metadata": {},
   "source": [
    "### 7.2 Evaluation Approach"
   ]
  },
  {
   "cell_type": "markdown",
   "id": "2d1177ef",
   "metadata": {},
   "source": [
    "As our stakeholders required to spent the marketing resouces on the __right target segment (Yoga Enthusiasts)__. Our classification model have to correctly predict the yoga enthusiasts. We can accept few wrongly predicted yoga enthusiasts, in fact which group belongs to non-yoga enthusiasts as by spending some marketing resources on this group (non-yoga enthusiasts) may have chances to convert into dollar for company business growth. However we have to minimize predicted as non-yoga enthusiats, in fact the group belongs to __true yoga enthusiasts__ as we do not want to miss out this real group of Yoga Enthusiasts that have high probability to be converted into dollar and potentially go into our competitors\n",
    "\n",
    "Hence in term of evaluation approach on our model, we decided to use metrics `accuracy`, `recall` and `f1-score`.\n",
    "> __Accuracy__: as the name suggest, this metric used to evaluate how accurate the model on predicted outcomes out of total predictions. Its formula is:\n",
    "\n",
    "$$\n",
    "\\begin{eqnarray*}\n",
    "\\text{Accuracy Score} &=& \\frac{\\text{total number of correct predictions}}{\\text{total number of predictions}}\n",
    "\\end{eqnarray*}\n",
    "$$\n",
    "\n",
    "*As our data is not overly imbalance, hence we can accept accuracy as one of our metric. We need high accuracy to ensure our model is doing well in predicting both yoga and non-yoga enthusiasts.*\n",
    "\n",
    "> __Recall / Sensitivity__: this metric used to evaluate how accurate the model on predicted outcomes out of total number of Actual Positive. Its formula is:\n",
    "\n",
    "$$\n",
    "\\begin{eqnarray*}\n",
    "\\text{Recall Score} &=& \\frac{\\text{True Positive}}{\\text{True Positive + False Negative}}\n",
    "\\end{eqnarray*}\n",
    "$$\n",
    "\n",
    "*__True Positive:__ Predicted is Yoga Enthusiasts and in real also Yoga Enthusiasts* \\\n",
    "*__False Negative:__ Predicted is Non-Yoga Enthusiasts but in real is Yoga Enthusiasts (Type II Error)*  \n",
    "\n",
    "\n",
    "*Our goal is to build a classification model that able to predict the yoga enthusiasts as accurate as possible, at the same time we have to minimize errors (Type I or Type II). As earlier discussed, we have to minimize in predicting as non-yoga enthusiasts but in fact the group belongs to Actual yoga enthusiasts, this is called False Negative or Type II error.*\n",
    "\n",
    "> __F1 Score__: this metric is a combinations of precision and recall metrics, it balancing in minimize type I and type II errors. Its formula is:\n",
    "\n",
    "$$\n",
    "F1 = 2*\\frac{(\\text{Precision}*\\text{Recall})} {(\\text{Precision} + \\text{Recall})}\n",
    "$$\n",
    "\n",
    "*We decided to take F1-score as our 3rd evaluation metrics as we want to strike a balance between precision and recall. As recall focusing on minimizing False Negative / Type II errors, precision focusing on minimizing False Positive / Type I errors. F1-score also good in measuring imbalance class datasets*\n",
    "\n",
    "__Note:__ One of our goal is to identify the top predictors on yoga enthusiasts, we have to put both `yoga` and `meditation` into stop words listing in order for our model to identify the top predictors other than both words. Although by doing so will definitely reduce the model accuracy score as both are top common words in the posts and are direct indentity to yoga and non-yoga enthusiasts. \n",
    "\n",
    "---"
   ]
  },
  {
   "cell_type": "markdown",
   "id": "e1995cd7",
   "metadata": {},
   "source": [
    "### Hyperparameters: GridSearchCV"
   ]
  },
  {
   "cell_type": "markdown",
   "id": "e6ef51d9",
   "metadata": {},
   "source": [
    "### 7.3 Logistic Regression"
   ]
  },
  {
   "cell_type": "markdown",
   "id": "7eb99aa8",
   "metadata": {},
   "source": [
    "We started our our first model by using `Logistic Regression` as this is the simplest and one of the most common binary classificaiton algorithm to predict continuous probabilities between 0 and 1.  It’s an extension of the linear regression model for classification problems. It use those continuous predictions (/probabilities) to classify the predicted response as 0 or 1 (with reference to a threshold probability, like 0.5 mid-point), in this project our target response is `is_yoga` which __1 = yoga, 0 = meditation__."
   ]
  },
  {
   "cell_type": "code",
   "execution_count": 11,
   "id": "a1b3de6b",
   "metadata": {},
   "outputs": [],
   "source": [
    "# Build pipeline for Countvectorizer and LogisticRegression\n",
    "lr_cvec_pipe = Pipeline([('cvec', CountVectorizer()),\n",
    "                         ('c_lr', LogisticRegression(max_iter=1_000, random_state=42))])\n",
    "\n",
    "# Set parameters for Countvectorizer and LogisticRegression\n",
    "lr_cvec_params = {'cvec__max_features': [None],\n",
    "                  'cvec__stop_words':['english'],\n",
    "                  'cvec__min_df':[2, 3, 4, 5],\n",
    "                  'cvec__max_df': [0.2, 0.3, 0.4, 0.8,0.9],\n",
    "                  'cvec__ngram_range':[(1,1), (1,2)],\n",
    "                  'c_lr__C': [0.001, 0.01, 0.1, 1, 10],\n",
    "                  'c_lr__penalty': ['l1','l2'],\n",
    "                  'c_lr__solver':['liblinear']\n",
    "                 }"
   ]
  },
  {
   "cell_type": "code",
   "execution_count": 12,
   "id": "90970886",
   "metadata": {},
   "outputs": [],
   "source": [
    "# Build pipeline for TfidfVectorizer and LogisticRegression\n",
    "lr_tvec_pipe = Pipeline([('tvec', TfidfVectorizer()),\n",
    "                         ('t_lr', LogisticRegression(max_iter=1_000, random_state=42))])\n",
    "\n",
    "# Set parameters for TfidfVectorizer and LogisticRegression\n",
    "lr_tvec_params = {'tvec__max_features': [None],\n",
    "                  'tvec__stop_words':['english'],\n",
    "                  'tvec__min_df':[2, 3, 4, 5],\n",
    "                  'tvec__max_df': [0.2, 0.3, 0.4, 0.8, 0.9],\n",
    "                  'tvec__ngram_range':[(1,1), (1,2)],\n",
    "                  't_lr__C': [0.001, 0.01, 0.1, 1, 10],\n",
    "                  't_lr__penalty': ['l1','l2'],\n",
    "                  't_lr__solver':['liblinear']\n",
    "                 }"
   ]
  },
  {
   "cell_type": "markdown",
   "id": "c318c70a",
   "metadata": {},
   "source": [
    "#### *CountVectorizer - Logistic Regression*"
   ]
  },
  {
   "cell_type": "code",
   "execution_count": 13,
   "id": "1b8c1528",
   "metadata": {
    "scrolled": true
   },
   "outputs": [
    {
     "name": "stdout",
     "output_type": "stream",
     "text": [
      "Fitting 5 folds for each of 400 candidates, totalling 2000 fits\n",
      "Wall time: 25 s\n"
     ]
    },
    {
     "data": {
      "text/plain": [
       "GridSearchCV(cv=5,\n",
       "             estimator=Pipeline(steps=[('cvec', CountVectorizer()),\n",
       "                                       ('c_lr',\n",
       "                                        LogisticRegression(max_iter=1000,\n",
       "                                                           random_state=42))]),\n",
       "             n_jobs=-1,\n",
       "             param_grid={'c_lr__C': [0.001, 0.01, 0.1, 1, 10],\n",
       "                         'c_lr__penalty': ['l1', 'l2'],\n",
       "                         'c_lr__solver': ['liblinear'],\n",
       "                         'cvec__max_df': [0.2, 0.3, 0.4, 0.8, 0.9],\n",
       "                         'cvec__max_features': [None],\n",
       "                         'cvec__min_df': [2, 3, 4, 5],\n",
       "                         'cvec__ngram_range': [(1, 1), (1, 2)],\n",
       "                         'cvec__stop_words': ['english']},\n",
       "             verbose=1)"
      ]
     },
     "execution_count": 13,
     "metadata": {},
     "output_type": "execute_result"
    }
   ],
   "source": [
    "%%time\n",
    "\n",
    "# Instantiate GridSearchCV for Countvectorizer and LogisticRegression\n",
    " # Specify recall as the metric to optimize\n",
    "lr_cvec_gs = GridSearchCV(lr_cvec_pipe, lr_cvec_params, cv=5, verbose=1, n_jobs= -1)\n",
    "\n",
    "# Fit the model\n",
    "lr_cvec_gs.fit(X_train, y_train)"
   ]
  },
  {
   "cell_type": "code",
   "execution_count": 14,
   "id": "e9d972e4",
   "metadata": {},
   "outputs": [
    {
     "name": "stdout",
     "output_type": "stream",
     "text": [
      "{'c_lr__C': 0.1, 'c_lr__penalty': 'l2', 'c_lr__solver': 'liblinear', 'cvec__max_df': 0.2, 'cvec__max_features': None, 'cvec__min_df': 3, 'cvec__ngram_range': (1, 2), 'cvec__stop_words': 'english'}\n",
      "0.8757446808510639\n"
     ]
    }
   ],
   "source": [
    "# check best params and CV score\n",
    "print(lr_cvec_gs.best_params_)\n",
    "print(lr_cvec_gs.best_score_)"
   ]
  },
  {
   "cell_type": "code",
   "execution_count": 15,
   "id": "811ea2b0",
   "metadata": {},
   "outputs": [
    {
     "name": "stdout",
     "output_type": "stream",
     "text": [
      "====== Logistic Regression GridSearchCV's Metrics ======\n",
      "Train Score: 0.9736170212765958\n",
      "Test Score: 0.8908730158730159\n",
      "Precision Score: 0.9325842696629213\n",
      "Recall Score: 0.7942583732057417\n",
      "f1-Score: 0.8578811369509044\n",
      "roc_auc Score: 0.9498986294704403\n",
      "\n",
      "== confusion matrix ==\n",
      "True Negatives: 283\n",
      "False Positives: 12\n",
      "False Negatives: 43\n",
      "True Positives: 166\n"
     ]
    }
   ],
   "source": [
    "# print the summarize report and store the values\n",
    "run_score(lr_cvec_gs, 'cvec', 'Logistic Regression GridSearchCV')"
   ]
  },
  {
   "cell_type": "code",
   "execution_count": 16,
   "id": "dfb6a278",
   "metadata": {},
   "outputs": [
    {
     "data": {
      "image/png": "[encoded data removed]",
      "text/plain": [
       "<Figure size 432x288 with 2 Axes>"
      ]
     },
     "metadata": {
      "needs_background": "light"
     },
     "output_type": "display_data"
    }
   ],
   "source": [
    "# plot confusion matrix\n",
    "plot_confusion_matrix(lr_cvec_gs, X_test, y_test, display_labels=['meditation', 'yoga'], \n",
    "                      cmap='Blues', values_format='d');"
   ]
  },
  {
   "cell_type": "code",
   "execution_count": 17,
   "id": "a0d8242e",
   "metadata": {},
   "outputs": [
    {
     "data": {
      "image/png": "[encoded data removed]",
      "text/plain": [
       "<Figure size 432x288 with 1 Axes>"
      ]
     },
     "metadata": {
      "needs_background": "light"
     },
     "output_type": "display_data"
    }
   ],
   "source": [
    "# plot roc curve\n",
    "plot_roc_curve(lr_cvec_gs, X_test, y_test, name = 'lr_cvec_gs')\n",
    "plt.plot([0, 1], [0, 1],\n",
    "         label='baseline', linestyle='--' , color='black')\n",
    "\n",
    "plt.title('Logistic Regression - CountVectorizer ROC Curve', fontsize=14)\n",
    "plt.legend();"
   ]
  },
  {
   "cell_type": "code",
   "execution_count": 18,
   "id": "8cfc4137",
   "metadata": {},
   "outputs": [
    {
     "data": {
      "text/html": [
       "<div>\n",
       "<style scoped>\n",
       "    .dataframe tbody tr th:only-of-type {\n",
       "        vertical-align: middle;\n",
       "    }\n",
       "\n",
       "    .dataframe tbody tr th {\n",
       "        vertical-align: top;\n",
       "    }\n",
       "\n",
       "    .dataframe thead th {\n",
       "        text-align: right;\n",
       "    }\n",
       "</style>\n",
       "<table border=\"1\" class=\"dataframe\">\n",
       "  <thead>\n",
       "    <tr style=\"text-align: right;\">\n",
       "      <th></th>\n",
       "      <th>model</th>\n",
       "      <th>vectorizer</th>\n",
       "      <th>cross_val_score</th>\n",
       "      <th>train accuracy</th>\n",
       "      <th>test accuracy</th>\n",
       "      <th>precision</th>\n",
       "      <th>recall</th>\n",
       "      <th>f1_score</th>\n",
       "      <th>roc_auc</th>\n",
       "    </tr>\n",
       "  </thead>\n",
       "  <tbody>\n",
       "    <tr>\n",
       "      <th>0</th>\n",
       "      <td>Logistic Regression GridSearchCV</td>\n",
       "      <td>cvec</td>\n",
       "      <td>0.875745</td>\n",
       "      <td>0.973617</td>\n",
       "      <td>0.890873</td>\n",
       "      <td>0.932584</td>\n",
       "      <td>0.794258</td>\n",
       "      <td>0.857881</td>\n",
       "      <td>0.949899</td>\n",
       "    </tr>\n",
       "  </tbody>\n",
       "</table>\n",
       "</div>"
      ],
      "text/plain": [
       "                              model vectorizer  cross_val_score  \\\n",
       "0  Logistic Regression GridSearchCV       cvec         0.875745   \n",
       "\n",
       "   train accuracy  test accuracy  precision    recall  f1_score   roc_auc  \n",
       "0        0.973617       0.890873   0.932584  0.794258  0.857881  0.949899  "
      ]
     },
     "execution_count": 18,
     "metadata": {},
     "output_type": "execute_result"
    }
   ],
   "source": [
    "# Updated evaluation list\n",
    "pd.DataFrame(evaluation_list)"
   ]
  },
  {
   "cell_type": "markdown",
   "id": "ba79f926",
   "metadata": {},
   "source": [
    "According to the Confusion Matrix, it shows that the Logistic Regression model with Countvectorizer was able to correctly predict total 449 posts out of 504 posts. 12 False Positive (type I error) and 43 False Negative (type II error) that bring the Test Accuracy to 89.1%. As compared to Train accuracy, it shows the model was overfitted. With 43 type II errors, it bring the recall score to 79.4% and 12 type I errors allow the precision score at 93.3%. F1-score of 85.8% and ROC AUC score 95% both show the model is considered relatively good in classifying the posts."
   ]
  },
  {
   "cell_type": "markdown",
   "id": "0af32c23",
   "metadata": {},
   "source": [
    "#### *TfidfVectorizer - Logistic Regression*"
   ]
  },
  {
   "cell_type": "code",
   "execution_count": 19,
   "id": "cba5329d",
   "metadata": {
    "scrolled": true
   },
   "outputs": [
    {
     "name": "stdout",
     "output_type": "stream",
     "text": [
      "Fitting 5 folds for each of 400 candidates, totalling 2000 fits\n",
      "Wall time: 23.5 s\n"
     ]
    },
    {
     "data": {
      "text/plain": [
       "GridSearchCV(cv=5,\n",
       "             estimator=Pipeline(steps=[('tvec', TfidfVectorizer()),\n",
       "                                       ('t_lr',\n",
       "                                        LogisticRegression(max_iter=1000,\n",
       "                                                           random_state=42))]),\n",
       "             n_jobs=-1,\n",
       "             param_grid={'t_lr__C': [0.001, 0.01, 0.1, 1, 10],\n",
       "                         't_lr__penalty': ['l1', 'l2'],\n",
       "                         't_lr__solver': ['liblinear'],\n",
       "                         'tvec__max_df': [0.2, 0.3, 0.4, 0.8, 0.9],\n",
       "                         'tvec__max_features': [None],\n",
       "                         'tvec__min_df': [2, 3, 4, 5],\n",
       "                         'tvec__ngram_range': [(1, 1), (1, 2)],\n",
       "                         'tvec__stop_words': ['english']},\n",
       "             verbose=1)"
      ]
     },
     "execution_count": 19,
     "metadata": {},
     "output_type": "execute_result"
    }
   ],
   "source": [
    "%%time\n",
    "\n",
    "# Instantiate GridSearchCV for TfidfVectorizer and LogisticRegression\n",
    "# Specify recall as the metric to optimize\n",
    "lr_tvec_gs = GridSearchCV(lr_tvec_pipe, lr_tvec_params, cv=5, verbose=1, n_jobs= -1)\n",
    "\n",
    "# Fit the model\n",
    "lr_tvec_gs.fit(X_train, y_train)"
   ]
  },
  {
   "cell_type": "code",
   "execution_count": 20,
   "id": "824204c8",
   "metadata": {},
   "outputs": [
    {
     "name": "stdout",
     "output_type": "stream",
     "text": [
      "{'t_lr__C': 10, 't_lr__penalty': 'l2', 't_lr__solver': 'liblinear', 'tvec__max_df': 0.2, 'tvec__max_features': None, 'tvec__min_df': 2, 'tvec__ngram_range': (1, 2), 'tvec__stop_words': 'english'}\n",
      "0.8842553191489362\n"
     ]
    }
   ],
   "source": [
    "# check best params and CV score\n",
    "print(lr_tvec_gs.best_params_)\n",
    "print(lr_tvec_gs.best_score_)"
   ]
  },
  {
   "cell_type": "code",
   "execution_count": 21,
   "id": "1ec77511",
   "metadata": {},
   "outputs": [
    {
     "name": "stdout",
     "output_type": "stream",
     "text": [
      "====== Logistic Regression GridSearchCV's Metrics ======\n",
      "Train Score: 0.9991489361702127\n",
      "Test Score: 0.9007936507936508\n",
      "Precision Score: 0.9441340782122905\n",
      "Recall Score: 0.8086124401913876\n",
      "f1-Score: 0.8711340206185567\n",
      "roc_auc Score: 0.95239639931879\n",
      "\n",
      "== confusion matrix ==\n",
      "True Negatives: 285\n",
      "False Positives: 10\n",
      "False Negatives: 40\n",
      "True Positives: 169\n"
     ]
    }
   ],
   "source": [
    "# print the summarize report and store the values\n",
    "run_score(lr_tvec_gs, 'tvec', 'Logistic Regression GridSearchCV')"
   ]
  },
  {
   "cell_type": "code",
   "execution_count": 22,
   "id": "28aa3cec",
   "metadata": {},
   "outputs": [
    {
     "data": {
      "image/png": "[encoded data removed]",
      "text/plain": [
       "<Figure size 432x288 with 2 Axes>"
      ]
     },
     "metadata": {
      "needs_background": "light"
     },
     "output_type": "display_data"
    }
   ],
   "source": [
    "# plot confusion matrix\n",
    "plot_confusion_matrix(lr_tvec_gs, X_test, y_test, display_labels=['meditation', 'yoga'],\n",
    "                      cmap='Blues', values_format='d');"
   ]
  },
  {
   "cell_type": "code",
   "execution_count": 23,
   "id": "437a0266",
   "metadata": {},
   "outputs": [
    {
     "data": {
      "image/png": "[encoded data removed]",
      "text/plain": [
       "<Figure size 432x288 with 1 Axes>"
      ]
     },
     "metadata": {
      "needs_background": "light"
     },
     "output_type": "display_data"
    }
   ],
   "source": [
    "# plot roc curve\n",
    "plot_roc_curve(lr_tvec_gs, X_test, y_test, name = 'lr_tvec_gs')\n",
    "plt.plot([0, 1], [0, 1],\n",
    "         label='baseline', linestyle='--' , color='black')\n",
    "\n",
    "plt.title('Logistic Regression - TFIDF ROC Curve', fontsize=14)\n",
    "plt.legend();"
   ]
  },
  {
   "cell_type": "code",
   "execution_count": 24,
   "id": "2d7523f1",
   "metadata": {
    "scrolled": true
   },
   "outputs": [
    {
     "data": {
      "text/html": [
       "<div>\n",
       "<style scoped>\n",
       "    .dataframe tbody tr th:only-of-type {\n",
       "        vertical-align: middle;\n",
       "    }\n",
       "\n",
       "    .dataframe tbody tr th {\n",
       "        vertical-align: top;\n",
       "    }\n",
       "\n",
       "    .dataframe thead th {\n",
       "        text-align: right;\n",
       "    }\n",
       "</style>\n",
       "<table border=\"1\" class=\"dataframe\">\n",
       "  <thead>\n",
       "    <tr style=\"text-align: right;\">\n",
       "      <th></th>\n",
       "      <th>model</th>\n",
       "      <th>vectorizer</th>\n",
       "      <th>cross_val_score</th>\n",
       "      <th>train accuracy</th>\n",
       "      <th>test accuracy</th>\n",
       "      <th>precision</th>\n",
       "      <th>recall</th>\n",
       "      <th>f1_score</th>\n",
       "      <th>roc_auc</th>\n",
       "    </tr>\n",
       "  </thead>\n",
       "  <tbody>\n",
       "    <tr>\n",
       "      <th>0</th>\n",
       "      <td>Logistic Regression GridSearchCV</td>\n",
       "      <td>cvec</td>\n",
       "      <td>0.875745</td>\n",
       "      <td>0.973617</td>\n",
       "      <td>0.890873</td>\n",
       "      <td>0.932584</td>\n",
       "      <td>0.794258</td>\n",
       "      <td>0.857881</td>\n",
       "      <td>0.949899</td>\n",
       "    </tr>\n",
       "    <tr>\n",
       "      <th>1</th>\n",
       "      <td>Logistic Regression GridSearchCV</td>\n",
       "      <td>tvec</td>\n",
       "      <td>0.884255</td>\n",
       "      <td>0.999149</td>\n",
       "      <td>0.900794</td>\n",
       "      <td>0.944134</td>\n",
       "      <td>0.808612</td>\n",
       "      <td>0.871134</td>\n",
       "      <td>0.952396</td>\n",
       "    </tr>\n",
       "  </tbody>\n",
       "</table>\n",
       "</div>"
      ],
      "text/plain": [
       "                              model vectorizer  cross_val_score  \\\n",
       "0  Logistic Regression GridSearchCV       cvec         0.875745   \n",
       "1  Logistic Regression GridSearchCV       tvec         0.884255   \n",
       "\n",
       "   train accuracy  test accuracy  precision    recall  f1_score   roc_auc  \n",
       "0        0.973617       0.890873   0.932584  0.794258  0.857881  0.949899  \n",
       "1        0.999149       0.900794   0.944134  0.808612  0.871134  0.952396  "
      ]
     },
     "execution_count": 24,
     "metadata": {},
     "output_type": "execute_result"
    }
   ],
   "source": [
    "# Updated evaluation list\n",
    "pd.DataFrame(evaluation_list)"
   ]
  },
  {
   "cell_type": "markdown",
   "id": "1f514884",
   "metadata": {},
   "source": [
    "According to the Confusion Matrix, it shows that the Logistic Regression model with TfidfVectorizer was able to correctly predict total 454 posts out of 504 posts. 10 False Positive (type I error) and 40 False Negative (type II error) that bring the Test Accuracy to 90%. As compared to Train accuracy, it still shows the model was overfitted. With 40 type II errors, it bring the recall score to 80.9% and 10 type I errors allow the precision score at 94.4%. F1-score of 87.1% and ROC AUC score 95.2% both show the model is considered relatively good in classifying the posts.\n",
    "\n",
    "As such by using TFIDF Vectorizer it shows some improvements in overall score and accuracy as compared to same model but using Count Vectorizer."
   ]
  },
  {
   "cell_type": "markdown",
   "id": "2a980513",
   "metadata": {},
   "source": [
    "### 7.4 Multinomial Naive Bayes"
   ]
  },
  {
   "cell_type": "markdown",
   "id": "93fbfb79",
   "metadata": {},
   "source": [
    "The __multinomial Naive Bayes classifier__ is suitable for classification with discrete features (e.g., word counts for text classification). The multinomial distribution normally requires integer feature counts. However, in practice, fractional counts such as tf-idf may also work. The algorithm is based on Bayes theorem where our target response is reprenseted as a probability function based on our text features. It describes the probability of an event based on conditions that might be related to the event.\n",
    "\n",
    "**Naive Bayes** makes the assumption that all features are independent of one another (this is why it is called *naïve*). However, text data is never independent! Certain words can change the context of a sentence when used with other words. The way language works, we have words that are more or less likely to follow other words.\n",
    "\n",
    "Although the assumption is not realisitc with NLP data, we still use Naive Bayes frequently as it is a very fast modeling algorithm and it is also a good classifier, somehow it will outperform more complicated models."
   ]
  },
  {
   "cell_type": "code",
   "execution_count": 25,
   "id": "3cb649c1",
   "metadata": {},
   "outputs": [],
   "source": [
    "# Build pipeline for Countvectorizer and Naive Bayes\n",
    "nb_cvec_pipe = Pipeline([('cvec', CountVectorizer()),\n",
    "                         ('c_nb', MultinomialNB())])\n",
    "\n",
    "# Set parameters for Countvectorizer and Naive Bayes\n",
    "nb_cvec_params = {'cvec__max_features': [None],\n",
    "                  'cvec__stop_words':['english'],\n",
    "                  'cvec__min_df':[2, 3, 4, 5],\n",
    "                  'cvec__max_df': [0.2, 0.3, 0.4, 0.8, 0.9],\n",
    "                  'cvec__ngram_range':[(1,1), (1,2)],\n",
    "                  'c_nb__alpha': [0.1, 0.5, 1 , 3, 5, 10],\n",
    "                  'c_nb__fit_prior':[True, False]}"
   ]
  },
  {
   "cell_type": "code",
   "execution_count": 26,
   "id": "c48e7cb5",
   "metadata": {},
   "outputs": [],
   "source": [
    "# Build pipeline for TfidfVectorizer and Naive Bayes\n",
    "nb_tvec_pipe = Pipeline([('tvec',TfidfVectorizer()),\n",
    "                         ('t_nb',MultinomialNB())])\n",
    "\n",
    "# Set parameters for TfidfVectorizer and Naive Bayes\n",
    "nb_tvec_params = {'tvec__max_features': [None],\n",
    "                  'tvec__stop_words':['english'],\n",
    "                  'tvec__min_df':[2, 3, 4, 5],\n",
    "                  'tvec__max_df': [0.2, 0.3, 0.4, 0.8, 0.9],\n",
    "                  'tvec__ngram_range':[(1,1), (1,2)],\n",
    "                  't_nb__alpha': [0.1, 0.5, 1 , 3, 5, 10],\n",
    "                  't_nb__fit_prior':[True, False]}"
   ]
  },
  {
   "cell_type": "markdown",
   "id": "de0f784c",
   "metadata": {},
   "source": [
    "#### *CountVectorizer - Multinomial Naive Bayes*"
   ]
  },
  {
   "cell_type": "code",
   "execution_count": 27,
   "id": "a8b3d39b",
   "metadata": {},
   "outputs": [
    {
     "name": "stdout",
     "output_type": "stream",
     "text": [
      "Fitting 5 folds for each of 480 candidates, totalling 2400 fits\n",
      "{'c_nb__alpha': 3, 'c_nb__fit_prior': False, 'cvec__max_df': 0.3, 'cvec__max_features': None, 'cvec__min_df': 2, 'cvec__ngram_range': (1, 1), 'cvec__stop_words': 'english'}\n",
      "0.8902127659574468\n",
      "Wall time: 27.7 s\n"
     ]
    }
   ],
   "source": [
    "%%time\n",
    "\n",
    "# Instantiate GridSearchCV for Countvectorizer and Naive Bayes\n",
    "# Specify recall as the metric to optimize\n",
    "nb_cvec_gs = GridSearchCV(nb_cvec_pipe, nb_cvec_params, cv=5, verbose=1, n_jobs= -1)\n",
    "\n",
    "# Fit the model\n",
    "nb_cvec_gs.fit(X_train, y_train)\n",
    "print(nb_cvec_gs.best_params_)\n",
    "print(nb_cvec_gs.best_score_)"
   ]
  },
  {
   "cell_type": "code",
   "execution_count": 28,
   "id": "0fbfada3",
   "metadata": {},
   "outputs": [
    {
     "name": "stdout",
     "output_type": "stream",
     "text": [
      "====== Naive Bayes GridSearchCV's Metrics ======\n",
      "Train Score: 0.9412765957446808\n",
      "Test Score: 0.9067460317460317\n",
      "Precision Score: 0.9175257731958762\n",
      "Recall Score: 0.8516746411483254\n",
      "f1-Score: 0.8833746898263026\n",
      "roc_auc Score: 0.9465898953856136\n",
      "\n",
      "== confusion matrix ==\n",
      "True Negatives: 279\n",
      "False Positives: 16\n",
      "False Negatives: 31\n",
      "True Positives: 178\n"
     ]
    }
   ],
   "source": [
    "# print the summarize report and store the values\n",
    "run_score(nb_cvec_gs, 'cvec', 'Naive Bayes GridSearchCV')"
   ]
  },
  {
   "cell_type": "code",
   "execution_count": 29,
   "id": "2634d13d",
   "metadata": {},
   "outputs": [
    {
     "data": {
      "image/png": "[encoded data removed]",
      "text/plain": [
       "<Figure size 432x288 with 2 Axes>"
      ]
     },
     "metadata": {
      "needs_background": "light"
     },
     "output_type": "display_data"
    }
   ],
   "source": [
    "# plot confusion matrix\n",
    "plot_confusion_matrix(nb_cvec_gs, X_test, y_test, display_labels=['meditation', 'yoga'],\n",
    "                      cmap='Blues', values_format='d');"
   ]
  },
  {
   "cell_type": "code",
   "execution_count": 30,
   "id": "17a5d39c",
   "metadata": {},
   "outputs": [
    {
     "data": {
      "image/png": "[encoded data removed]",
      "text/plain": [
       "<Figure size 432x288 with 1 Axes>"
      ]
     },
     "metadata": {
      "needs_background": "light"
     },
     "output_type": "display_data"
    }
   ],
   "source": [
    "# plot roc curve\n",
    "plot_roc_curve(nb_cvec_gs, X_test, y_test, name = 'nb_cvec_gs')\n",
    "plt.plot([0, 1], [0, 1],\n",
    "         label='baseline', linestyle='--' , color='black')\n",
    "\n",
    "plt.title('Naive Bayes - CountVectorizer ROC Curve', fontsize=14)\n",
    "plt.legend();"
   ]
  },
  {
   "cell_type": "code",
   "execution_count": 31,
   "id": "e6a2b3f7",
   "metadata": {
    "scrolled": true
   },
   "outputs": [
    {
     "data": {
      "text/html": [
       "<div>\n",
       "<style scoped>\n",
       "    .dataframe tbody tr th:only-of-type {\n",
       "        vertical-align: middle;\n",
       "    }\n",
       "\n",
       "    .dataframe tbody tr th {\n",
       "        vertical-align: top;\n",
       "    }\n",
       "\n",
       "    .dataframe thead th {\n",
       "        text-align: right;\n",
       "    }\n",
       "</style>\n",
       "<table border=\"1\" class=\"dataframe\">\n",
       "  <thead>\n",
       "    <tr style=\"text-align: right;\">\n",
       "      <th></th>\n",
       "      <th>model</th>\n",
       "      <th>vectorizer</th>\n",
       "      <th>cross_val_score</th>\n",
       "      <th>train accuracy</th>\n",
       "      <th>test accuracy</th>\n",
       "      <th>precision</th>\n",
       "      <th>recall</th>\n",
       "      <th>f1_score</th>\n",
       "      <th>roc_auc</th>\n",
       "    </tr>\n",
       "  </thead>\n",
       "  <tbody>\n",
       "    <tr>\n",
       "      <th>0</th>\n",
       "      <td>Logistic Regression GridSearchCV</td>\n",
       "      <td>cvec</td>\n",
       "      <td>0.875745</td>\n",
       "      <td>0.973617</td>\n",
       "      <td>0.890873</td>\n",
       "      <td>0.932584</td>\n",
       "      <td>0.794258</td>\n",
       "      <td>0.857881</td>\n",
       "      <td>0.949899</td>\n",
       "    </tr>\n",
       "    <tr>\n",
       "      <th>1</th>\n",
       "      <td>Logistic Regression GridSearchCV</td>\n",
       "      <td>tvec</td>\n",
       "      <td>0.884255</td>\n",
       "      <td>0.999149</td>\n",
       "      <td>0.900794</td>\n",
       "      <td>0.944134</td>\n",
       "      <td>0.808612</td>\n",
       "      <td>0.871134</td>\n",
       "      <td>0.952396</td>\n",
       "    </tr>\n",
       "    <tr>\n",
       "      <th>2</th>\n",
       "      <td>Naive Bayes GridSearchCV</td>\n",
       "      <td>cvec</td>\n",
       "      <td>0.890213</td>\n",
       "      <td>0.941277</td>\n",
       "      <td>0.906746</td>\n",
       "      <td>0.917526</td>\n",
       "      <td>0.851675</td>\n",
       "      <td>0.883375</td>\n",
       "      <td>0.946590</td>\n",
       "    </tr>\n",
       "  </tbody>\n",
       "</table>\n",
       "</div>"
      ],
      "text/plain": [
       "                              model vectorizer  cross_val_score  \\\n",
       "0  Logistic Regression GridSearchCV       cvec         0.875745   \n",
       "1  Logistic Regression GridSearchCV       tvec         0.884255   \n",
       "2          Naive Bayes GridSearchCV       cvec         0.890213   \n",
       "\n",
       "   train accuracy  test accuracy  precision    recall  f1_score   roc_auc  \n",
       "0        0.973617       0.890873   0.932584  0.794258  0.857881  0.949899  \n",
       "1        0.999149       0.900794   0.944134  0.808612  0.871134  0.952396  \n",
       "2        0.941277       0.906746   0.917526  0.851675  0.883375  0.946590  "
      ]
     },
     "execution_count": 31,
     "metadata": {},
     "output_type": "execute_result"
    }
   ],
   "source": [
    "# Updated evaluation list\n",
    "pd.DataFrame(evaluation_list)"
   ]
  },
  {
   "cell_type": "markdown",
   "id": "ceeba5d5",
   "metadata": {},
   "source": [
    "According to the Confusion Matrix, it shows that the Multinomial Naive Bayes model with CountVectorizer was able to correctly predict total 457 posts out of 504 posts. 16 False Positive (type I error) and 31 False Negative (type II error) that bring the Test Accuracy to 90.7%. As compared to Train accuracy, it still shows the model slightly overfitted but it was much better as compared Logistic Regression model. With 31 type II errors, it bring the recall score to 85.2% and 16 type I errors allow the precision score at 91.8%. F1-score of 88.3% and ROC AUC score 94.7% both show the model is considered relatively good in classifying the posts.\n",
    "\n",
    "As such by using Count Vectorizer on Multinomial Naive Bayes, it shows huge reduce in overfitting and improvements in overall score and accuracy as compared to Logistic Regression Model. Although the precision score drops, we are able to accept the increase numbers in False Positive (Type I error), which we predicted as yoga enthusiasts, but in fact it is non-yoga enthusiasts. There is still potential that we can convert this group of segment into dollar.\n",
    "\n",
    "The most crucial metric is recall which we are able to maximize the True Positive and minimize the False Negative, so our Marketing team able maximize the marketing resource on the target segment (yoga enthusiasts) as much as possible."
   ]
  },
  {
   "cell_type": "markdown",
   "id": "9854154a",
   "metadata": {},
   "source": [
    "#### *TfidfVectorizer - Multinomial Naive Bayes*"
   ]
  },
  {
   "cell_type": "code",
   "execution_count": 32,
   "id": "64f3be2c",
   "metadata": {},
   "outputs": [
    {
     "name": "stdout",
     "output_type": "stream",
     "text": [
      "Fitting 5 folds for each of 480 candidates, totalling 2400 fits\n",
      "{'t_nb__alpha': 0.5, 't_nb__fit_prior': False, 'tvec__max_df': 0.2, 'tvec__max_features': None, 'tvec__min_df': 2, 'tvec__ngram_range': (1, 1), 'tvec__stop_words': 'english'}\n",
      "0.8868085106382978\n",
      "Wall time: 28.7 s\n"
     ]
    }
   ],
   "source": [
    "%%time\n",
    "\n",
    "# Instantiate GridSearchCV for TfidfVectorizer and Naive Bayes\n",
    "# Specify recall as the metric to optimize\n",
    "nb_tvec_gs = GridSearchCV(nb_tvec_pipe, nb_tvec_params, cv=5, verbose=1, n_jobs= -1)\n",
    "\n",
    "# Fit the model\n",
    "nb_tvec_gs.fit(X_train, y_train)\n",
    "print(nb_tvec_gs.best_params_)\n",
    "print(nb_tvec_gs.best_score_)"
   ]
  },
  {
   "cell_type": "code",
   "execution_count": 33,
   "id": "4a29254e",
   "metadata": {},
   "outputs": [
    {
     "name": "stdout",
     "output_type": "stream",
     "text": [
      "====== Naive Bayes GridSearchCV's Metrics ======\n",
      "Train Score: 0.9693617021276596\n",
      "Test Score: 0.8948412698412699\n",
      "Precision Score: 0.9239130434782609\n",
      "Recall Score: 0.8133971291866029\n",
      "f1-Score: 0.8651399491094148\n",
      "roc_auc Score: 0.9501905765955722\n",
      "\n",
      "== confusion matrix ==\n",
      "True Negatives: 281\n",
      "False Positives: 14\n",
      "False Negatives: 39\n",
      "True Positives: 170\n"
     ]
    }
   ],
   "source": [
    "# print the summarize report and store the values\n",
    "run_score(nb_tvec_gs, 'tvec', 'Naive Bayes GridSearchCV')"
   ]
  },
  {
   "cell_type": "code",
   "execution_count": 34,
   "id": "7f17d37e",
   "metadata": {},
   "outputs": [
    {
     "data": {
      "image/png": "[encoded data removed]",
      "text/plain": [
       "<Figure size 432x288 with 2 Axes>"
      ]
     },
     "metadata": {
      "needs_background": "light"
     },
     "output_type": "display_data"
    }
   ],
   "source": [
    "# plot confusion matrix\n",
    "plot_confusion_matrix(nb_tvec_gs, X_test, y_test, display_labels=['meditation', 'yoga'],\n",
    "                      cmap='Blues', values_format='d');"
   ]
  },
  {
   "cell_type": "code",
   "execution_count": 35,
   "id": "c25b9b64",
   "metadata": {},
   "outputs": [
    {
     "data": {
      "image/png": "[encoded data removed]",
      "text/plain": [
       "<Figure size 432x288 with 1 Axes>"
      ]
     },
     "metadata": {
      "needs_background": "light"
     },
     "output_type": "display_data"
    }
   ],
   "source": [
    "# plot roc curve\n",
    "plot_roc_curve(nb_tvec_gs, X_test, y_test, name = 'nb_tvec_gs')\n",
    "plt.plot([0, 1], [0, 1],\n",
    "         label='baseline', linestyle='--' , color='black')\n",
    "\n",
    "plt.title('Naive Bayes - TFIDF ROC Curve', fontsize=14)\n",
    "plt.legend();"
   ]
  },
  {
   "cell_type": "code",
   "execution_count": 36,
   "id": "2833f1ef",
   "metadata": {
    "scrolled": true
   },
   "outputs": [
    {
     "data": {
      "text/html": [
       "<div>\n",
       "<style scoped>\n",
       "    .dataframe tbody tr th:only-of-type {\n",
       "        vertical-align: middle;\n",
       "    }\n",
       "\n",
       "    .dataframe tbody tr th {\n",
       "        vertical-align: top;\n",
       "    }\n",
       "\n",
       "    .dataframe thead th {\n",
       "        text-align: right;\n",
       "    }\n",
       "</style>\n",
       "<table border=\"1\" class=\"dataframe\">\n",
       "  <thead>\n",
       "    <tr style=\"text-align: right;\">\n",
       "      <th></th>\n",
       "      <th>model</th>\n",
       "      <th>vectorizer</th>\n",
       "      <th>cross_val_score</th>\n",
       "      <th>train accuracy</th>\n",
       "      <th>test accuracy</th>\n",
       "      <th>precision</th>\n",
       "      <th>recall</th>\n",
       "      <th>f1_score</th>\n",
       "      <th>roc_auc</th>\n",
       "    </tr>\n",
       "  </thead>\n",
       "  <tbody>\n",
       "    <tr>\n",
       "      <th>0</th>\n",
       "      <td>Logistic Regression GridSearchCV</td>\n",
       "      <td>cvec</td>\n",
       "      <td>0.875745</td>\n",
       "      <td>0.973617</td>\n",
       "      <td>0.890873</td>\n",
       "      <td>0.932584</td>\n",
       "      <td>0.794258</td>\n",
       "      <td>0.857881</td>\n",
       "      <td>0.949899</td>\n",
       "    </tr>\n",
       "    <tr>\n",
       "      <th>1</th>\n",
       "      <td>Logistic Regression GridSearchCV</td>\n",
       "      <td>tvec</td>\n",
       "      <td>0.884255</td>\n",
       "      <td>0.999149</td>\n",
       "      <td>0.900794</td>\n",
       "      <td>0.944134</td>\n",
       "      <td>0.808612</td>\n",
       "      <td>0.871134</td>\n",
       "      <td>0.952396</td>\n",
       "    </tr>\n",
       "    <tr>\n",
       "      <th>2</th>\n",
       "      <td>Naive Bayes GridSearchCV</td>\n",
       "      <td>cvec</td>\n",
       "      <td>0.890213</td>\n",
       "      <td>0.941277</td>\n",
       "      <td>0.906746</td>\n",
       "      <td>0.917526</td>\n",
       "      <td>0.851675</td>\n",
       "      <td>0.883375</td>\n",
       "      <td>0.946590</td>\n",
       "    </tr>\n",
       "    <tr>\n",
       "      <th>3</th>\n",
       "      <td>Naive Bayes GridSearchCV</td>\n",
       "      <td>tvec</td>\n",
       "      <td>0.886809</td>\n",
       "      <td>0.969362</td>\n",
       "      <td>0.894841</td>\n",
       "      <td>0.923913</td>\n",
       "      <td>0.813397</td>\n",
       "      <td>0.865140</td>\n",
       "      <td>0.950191</td>\n",
       "    </tr>\n",
       "  </tbody>\n",
       "</table>\n",
       "</div>"
      ],
      "text/plain": [
       "                              model vectorizer  cross_val_score  \\\n",
       "0  Logistic Regression GridSearchCV       cvec         0.875745   \n",
       "1  Logistic Regression GridSearchCV       tvec         0.884255   \n",
       "2          Naive Bayes GridSearchCV       cvec         0.890213   \n",
       "3          Naive Bayes GridSearchCV       tvec         0.886809   \n",
       "\n",
       "   train accuracy  test accuracy  precision    recall  f1_score   roc_auc  \n",
       "0        0.973617       0.890873   0.932584  0.794258  0.857881  0.949899  \n",
       "1        0.999149       0.900794   0.944134  0.808612  0.871134  0.952396  \n",
       "2        0.941277       0.906746   0.917526  0.851675  0.883375  0.946590  \n",
       "3        0.969362       0.894841   0.923913  0.813397  0.865140  0.950191  "
      ]
     },
     "execution_count": 36,
     "metadata": {},
     "output_type": "execute_result"
    }
   ],
   "source": [
    "# Updated evaluation list\n",
    "pd.DataFrame(evaluation_list)"
   ]
  },
  {
   "cell_type": "markdown",
   "id": "075c9ad6",
   "metadata": {},
   "source": [
    "According to the Confusion Matrix, it shows that the Multinomial Naive Bayes model with TFIDFVectorizer was able to correctly predict total 451 posts out of 504 posts. 14 False Positive (type I error) and 39 False Negative (type II error) that bring the Test Accuracy to 89.5%. As compared to Train accuracy, it still shows the model was overfitted but it was much better as compared Logistic Regression model. With 39 type II errors, it bring the recall score to 81.3% and 14 type I errors allow the precision score at 92.4%. F1-score of 86.5% and ROC AUC score 95% both show the model is considered relatively good in classifying the posts.\n",
    "\n",
    "As such by using TFIDF Vectorizer on Multinomial Naive Bayes, it shows huge reduce in overfitting and improvements in overall score and accuracy as compared to Logistic Regression Model. Among Count Vectorizer and TFIDF Vectorizer on Naive Bayes, it shows that TFIDF Vectorizer have better precision score, while Count Vectorizer have better recall score. However Count Vectorizer still outperform TFIDF in term of F1-score."
   ]
  },
  {
   "cell_type": "markdown",
   "id": "475e3b48",
   "metadata": {},
   "source": [
    "### 7.5 Random Forest Classifier"
   ]
  },
  {
   "cell_type": "markdown",
   "id": "5a01ff1f",
   "metadata": {},
   "source": [
    "The 3rd model we explored for classification modeling is __Random Forest Classifier__. The model works differently from logistic regression and naive bayes. It is a tree-based machine learning algorithm and as the name suggest, it consists of large number of individual decision trees that operate as an ensemble. Each individual tree in the random forest spits out a class prediction and the class with the most votes becomes out model's prediction. It uses bagging and feature randomness when building each individual tree to try to create an uncorrelated forest of trees whose prediction by committee is more accurate than that of any individual tree.\n",
    "\n",
    "Random Forest works well as in not only the large number of decision trees, but also the \"unrrelated models\" or \"low correlation\" between the models is the key. Advantages of using Random Forest are roboust to outliers, works well with non-linear data and lower risk of overfitting. However it also have disadvantages that it found to be biased while dealing with categorial variables and take longer time in training."
   ]
  },
  {
   "cell_type": "code",
   "execution_count": 37,
   "id": "124b659c",
   "metadata": {},
   "outputs": [],
   "source": [
    "# Build pipeline for Countvectorizer and RandomForest\n",
    "rf_cvec_pipe = Pipeline([('cvec', CountVectorizer()),\n",
    "                         ('c_rf', RandomForestClassifier(random_state = 42))])\n",
    "\n",
    "# Set parameters for Countvectorizer and RandomForest\n",
    "rf_cvec_params = {'cvec__max_features': [None],\n",
    "                  'cvec__stop_words':['english'],\n",
    "                  'cvec__min_df':[2, 3, 4, 5],\n",
    "                  'cvec__max_df': [0.2, 0.3, 0.4, 0.8],\n",
    "                  'cvec__ngram_range':[(1,1), (1,2)],\n",
    "                  'c_rf__bootstrap': [True, False],\n",
    "                  'c_rf__max_depth': [None, 10, 50, 100],\n",
    "                  'c_rf__min_samples_split':[2, 3, 4, 5, 10], \n",
    "                  'c_rf__min_samples_leaf':[1, 2, 3]}"
   ]
  },
  {
   "cell_type": "code",
   "execution_count": 38,
   "id": "24cda59e",
   "metadata": {},
   "outputs": [],
   "source": [
    "# Build pipeline for TfidfVectorizer and RandomForest\n",
    "rf_tvec_pipe = Pipeline([('tvec',TfidfVectorizer()),\n",
    "                         ('t_rf',RandomForestClassifier(random_state = 42))])\n",
    "\n",
    "# Set parameters for TfidfVectorizer and RandomForest\n",
    "rf_tvec_params = {'tvec__max_features': [None],\n",
    "                  'tvec__stop_words':['english'],\n",
    "                  'tvec__min_df':[2, 3, 4, 5],\n",
    "                  'tvec__max_df': [0.2, 0.3, 0.4, 0.8],\n",
    "                  'tvec__ngram_range':[(1,1), (1,2)],\n",
    "                  't_rf__bootstrap': [True, False],\n",
    "                  't_rf__max_depth': [None, 10, 50, 100],\n",
    "                  't_rf__min_samples_split':[2, 3, 4, 5, 10], \n",
    "                  't_rf__min_samples_leaf':[1, 2, 3]}"
   ]
  },
  {
   "cell_type": "markdown",
   "id": "82f70f7e",
   "metadata": {},
   "source": [
    "\n"
   ]
  },
  {
   "cell_type": "markdown",
   "id": "cc784850",
   "metadata": {},
   "source": [
    "#### *CountVectorizer - Random Forest Classifier*"
   ]
  },
  {
   "cell_type": "code",
   "execution_count": 39,
   "id": "9a7dd0be",
   "metadata": {},
   "outputs": [
    {
     "name": "stdout",
     "output_type": "stream",
     "text": [
      "Fitting 5 folds for each of 3840 candidates, totalling 19200 fits\n",
      "{'c_rf__bootstrap': False, 'c_rf__max_depth': None, 'c_rf__min_samples_leaf': 2, 'c_rf__min_samples_split': 10, 'cvec__max_df': 0.3, 'cvec__max_features': None, 'cvec__min_df': 5, 'cvec__ngram_range': (1, 2), 'cvec__stop_words': 'english'}\n",
      "0.8834042553191489\n",
      "Wall time: 8min 43s\n"
     ]
    }
   ],
   "source": [
    "%%time\n",
    "\n",
    "# Instantiate GridSearchCV for TFIDF and RandomForest\n",
    "# Specify recall as the metric to optimize\n",
    "rf_cvec_gs = GridSearchCV(rf_cvec_pipe, rf_cvec_params, cv=5, verbose=1, n_jobs= -1)\n",
    "\n",
    "# Fit the model\n",
    "rf_cvec_gs.fit(X_train, y_train)\n",
    "print(rf_cvec_gs.best_params_)\n",
    "print(rf_cvec_gs.best_score_)"
   ]
  },
  {
   "cell_type": "code",
   "execution_count": 40,
   "id": "6af7c50b",
   "metadata": {},
   "outputs": [
    {
     "name": "stdout",
     "output_type": "stream",
     "text": [
      "====== Random Forest GridSearchCV's Metrics ======\n",
      "Train Score: 0.9940425531914894\n",
      "Test Score: 0.9007936507936508\n",
      "Precision Score: 0.9344262295081968\n",
      "Recall Score: 0.8181818181818182\n",
      "f1-Score: 0.8724489795918368\n",
      "roc_auc Score: 0.961884680885573\n",
      "\n",
      "== confusion matrix ==\n",
      "True Negatives: 283\n",
      "False Positives: 12\n",
      "False Negatives: 38\n",
      "True Positives: 171\n"
     ]
    }
   ],
   "source": [
    "# print the summarize report and store the values\n",
    "run_score(rf_cvec_gs, 'cvec', 'Random Forest GridSearchCV')"
   ]
  },
  {
   "cell_type": "code",
   "execution_count": 41,
   "id": "5c6bce0a",
   "metadata": {},
   "outputs": [
    {
     "data": {
      "image/png": "[encoded data removed]",
      "text/plain": [
       "<Figure size 432x288 with 2 Axes>"
      ]
     },
     "metadata": {
      "needs_background": "light"
     },
     "output_type": "display_data"
    }
   ],
   "source": [
    "# plot confusion matrix\n",
    "plot_confusion_matrix(rf_cvec_gs, X_test, y_test, display_labels=['meditation', 'yoga'],\n",
    "                      cmap='Blues', values_format='d');"
   ]
  },
  {
   "cell_type": "code",
   "execution_count": 42,
   "id": "b9b7d782",
   "metadata": {},
   "outputs": [
    {
     "data": {
      "image/png": "[encoded data removed]",
      "text/plain": [
       "<Figure size 432x288 with 1 Axes>"
      ]
     },
     "metadata": {
      "needs_background": "light"
     },
     "output_type": "display_data"
    }
   ],
   "source": [
    "# plot roc curve\n",
    "plot_roc_curve(rf_cvec_gs, X_test, y_test, name = 'rf_cvec_gs')\n",
    "plt.plot([0, 1], [0, 1],\n",
    "         label='baseline', linestyle='--' , color='black')\n",
    "\n",
    "plt.title('Random Forest - CountVectorizer ROC Curve', fontsize=14)\n",
    "plt.legend();"
   ]
  },
  {
   "cell_type": "code",
   "execution_count": 43,
   "id": "850650dd",
   "metadata": {
    "scrolled": false
   },
   "outputs": [
    {
     "data": {
      "text/html": [
       "<div>\n",
       "<style scoped>\n",
       "    .dataframe tbody tr th:only-of-type {\n",
       "        vertical-align: middle;\n",
       "    }\n",
       "\n",
       "    .dataframe tbody tr th {\n",
       "        vertical-align: top;\n",
       "    }\n",
       "\n",
       "    .dataframe thead th {\n",
       "        text-align: right;\n",
       "    }\n",
       "</style>\n",
       "<table border=\"1\" class=\"dataframe\">\n",
       "  <thead>\n",
       "    <tr style=\"text-align: right;\">\n",
       "      <th></th>\n",
       "      <th>model</th>\n",
       "      <th>vectorizer</th>\n",
       "      <th>cross_val_score</th>\n",
       "      <th>train accuracy</th>\n",
       "      <th>test accuracy</th>\n",
       "      <th>precision</th>\n",
       "      <th>recall</th>\n",
       "      <th>f1_score</th>\n",
       "      <th>roc_auc</th>\n",
       "    </tr>\n",
       "  </thead>\n",
       "  <tbody>\n",
       "    <tr>\n",
       "      <th>0</th>\n",
       "      <td>Logistic Regression GridSearchCV</td>\n",
       "      <td>cvec</td>\n",
       "      <td>0.875745</td>\n",
       "      <td>0.973617</td>\n",
       "      <td>0.890873</td>\n",
       "      <td>0.932584</td>\n",
       "      <td>0.794258</td>\n",
       "      <td>0.857881</td>\n",
       "      <td>0.949899</td>\n",
       "    </tr>\n",
       "    <tr>\n",
       "      <th>1</th>\n",
       "      <td>Logistic Regression GridSearchCV</td>\n",
       "      <td>tvec</td>\n",
       "      <td>0.884255</td>\n",
       "      <td>0.999149</td>\n",
       "      <td>0.900794</td>\n",
       "      <td>0.944134</td>\n",
       "      <td>0.808612</td>\n",
       "      <td>0.871134</td>\n",
       "      <td>0.952396</td>\n",
       "    </tr>\n",
       "    <tr>\n",
       "      <th>2</th>\n",
       "      <td>Naive Bayes GridSearchCV</td>\n",
       "      <td>cvec</td>\n",
       "      <td>0.890213</td>\n",
       "      <td>0.941277</td>\n",
       "      <td>0.906746</td>\n",
       "      <td>0.917526</td>\n",
       "      <td>0.851675</td>\n",
       "      <td>0.883375</td>\n",
       "      <td>0.946590</td>\n",
       "    </tr>\n",
       "    <tr>\n",
       "      <th>3</th>\n",
       "      <td>Naive Bayes GridSearchCV</td>\n",
       "      <td>tvec</td>\n",
       "      <td>0.886809</td>\n",
       "      <td>0.969362</td>\n",
       "      <td>0.894841</td>\n",
       "      <td>0.923913</td>\n",
       "      <td>0.813397</td>\n",
       "      <td>0.865140</td>\n",
       "      <td>0.950191</td>\n",
       "    </tr>\n",
       "    <tr>\n",
       "      <th>4</th>\n",
       "      <td>Random Forest GridSearchCV</td>\n",
       "      <td>cvec</td>\n",
       "      <td>0.883404</td>\n",
       "      <td>0.994043</td>\n",
       "      <td>0.900794</td>\n",
       "      <td>0.934426</td>\n",
       "      <td>0.818182</td>\n",
       "      <td>0.872449</td>\n",
       "      <td>0.961885</td>\n",
       "    </tr>\n",
       "  </tbody>\n",
       "</table>\n",
       "</div>"
      ],
      "text/plain": [
       "                              model vectorizer  cross_val_score  \\\n",
       "0  Logistic Regression GridSearchCV       cvec         0.875745   \n",
       "1  Logistic Regression GridSearchCV       tvec         0.884255   \n",
       "2          Naive Bayes GridSearchCV       cvec         0.890213   \n",
       "3          Naive Bayes GridSearchCV       tvec         0.886809   \n",
       "4        Random Forest GridSearchCV       cvec         0.883404   \n",
       "\n",
       "   train accuracy  test accuracy  precision    recall  f1_score   roc_auc  \n",
       "0        0.973617       0.890873   0.932584  0.794258  0.857881  0.949899  \n",
       "1        0.999149       0.900794   0.944134  0.808612  0.871134  0.952396  \n",
       "2        0.941277       0.906746   0.917526  0.851675  0.883375  0.946590  \n",
       "3        0.969362       0.894841   0.923913  0.813397  0.865140  0.950191  \n",
       "4        0.994043       0.900794   0.934426  0.818182  0.872449  0.961885  "
      ]
     },
     "execution_count": 43,
     "metadata": {},
     "output_type": "execute_result"
    }
   ],
   "source": [
    "# Updated evaluation list\n",
    "pd.DataFrame(evaluation_list)"
   ]
  },
  {
   "cell_type": "markdown",
   "id": "846f9f48",
   "metadata": {},
   "source": [
    "According to the Confusion Matrix, it shows that the Random Forest Classifier model with CountVectorizer was able to correctly predict total 454 posts out of 504 posts. 12 False Positive (type I error) and 38 False Negative (type II error) that bring the Test Accuracy to 90.1%. As compared to Train accuracy, it still shows the model was overfitted. With 38 type II errors, it bring the recall score to 81.8% and 12 type I errors allow the precision score at 93.4%. F1-score of 87.2% and ROC AUC score 96.2% both show the model is considered relatively good in classifying the posts.\n",
    "\n",
    "Overally, we do not see much improvements in score and accuracy from Naive Bayes to Random Forest Classifier. The model tend to overfit as compared to Naive Bayes."
   ]
  },
  {
   "cell_type": "markdown",
   "id": "b9a4137f",
   "metadata": {},
   "source": [
    "#### *TfidfVectorizer - Random Forest Classifier*"
   ]
  },
  {
   "cell_type": "code",
   "execution_count": 44,
   "id": "22a168f4",
   "metadata": {
    "scrolled": true
   },
   "outputs": [
    {
     "name": "stdout",
     "output_type": "stream",
     "text": [
      "Fitting 5 folds for each of 3840 candidates, totalling 19200 fits\n",
      "{'t_rf__bootstrap': True, 't_rf__max_depth': None, 't_rf__min_samples_leaf': 1, 't_rf__min_samples_split': 3, 'tvec__max_df': 0.3, 'tvec__max_features': None, 'tvec__min_df': 5, 'tvec__ngram_range': (1, 2), 'tvec__stop_words': 'english'}\n",
      "0.8842553191489362\n",
      "Wall time: 9min 25s\n"
     ]
    }
   ],
   "source": [
    "%%time\n",
    "\n",
    "# Instantiate GridSearchCV for TfidfVectorizer and RandomForest\n",
    "# Specify recall as the metric to optimize\n",
    "rf_tvec_gs = GridSearchCV(rf_tvec_pipe, rf_tvec_params, cv=5, verbose=1, n_jobs= -1)\n",
    "\n",
    "# Fit the model\n",
    "rf_tvec_gs.fit(X_train, y_train)\n",
    "print(rf_tvec_gs.best_params_)\n",
    "print(rf_tvec_gs.best_score_)"
   ]
  },
  {
   "cell_type": "code",
   "execution_count": 45,
   "id": "70aa10ce",
   "metadata": {},
   "outputs": [
    {
     "name": "stdout",
     "output_type": "stream",
     "text": [
      "====== Random Forest GridSearchCV's Metrics ======\n",
      "Train Score: 1.0\n",
      "Test Score: 0.8690476190476191\n",
      "Precision Score: 0.9132947976878613\n",
      "Recall Score: 0.7559808612440191\n",
      "f1-Score: 0.8272251308900523\n",
      "roc_auc Score: 0.9578622982726462\n",
      "\n",
      "== confusion matrix ==\n",
      "True Negatives: 280\n",
      "False Positives: 15\n",
      "False Negatives: 51\n",
      "True Positives: 158\n"
     ]
    }
   ],
   "source": [
    "# print the summarize report and store the values\n",
    "run_score(rf_tvec_gs, 'tvec', 'Random Forest GridSearchCV')"
   ]
  },
  {
   "cell_type": "code",
   "execution_count": 46,
   "id": "9cb4a9b4",
   "metadata": {},
   "outputs": [
    {
     "data": {
      "image/png": "[encoded data removed]",
      "text/plain": [
       "<Figure size 432x288 with 2 Axes>"
      ]
     },
     "metadata": {
      "needs_background": "light"
     },
     "output_type": "display_data"
    }
   ],
   "source": [
    "# plot confusion matrix\n",
    "plot_confusion_matrix(rf_tvec_gs, X_test, y_test, display_labels=['meditation', 'yoga'],\n",
    "                      cmap='Blues', values_format='d');"
   ]
  },
  {
   "cell_type": "code",
   "execution_count": 47,
   "id": "d82acfb6",
   "metadata": {},
   "outputs": [
    {
     "data": {
      "image/png": "[encoded data removed]",
      "text/plain": [
       "<Figure size 432x288 with 1 Axes>"
      ]
     },
     "metadata": {
      "needs_background": "light"
     },
     "output_type": "display_data"
    }
   ],
   "source": [
    "# plot roc curve\n",
    "plot_roc_curve(rf_tvec_gs, X_test, y_test, name = 'rf_tvec_gs')\n",
    "plt.plot([0, 1], [0, 1],\n",
    "         label='baseline', linestyle='--' , color='black')\n",
    "\n",
    "plt.title('Random Forest - TFIDF ROC Curve', fontsize=14)\n",
    "plt.legend();"
   ]
  },
  {
   "cell_type": "code",
   "execution_count": 48,
   "id": "7856a71a",
   "metadata": {
    "scrolled": true
   },
   "outputs": [
    {
     "data": {
      "text/html": [
       "<div>\n",
       "<style scoped>\n",
       "    .dataframe tbody tr th:only-of-type {\n",
       "        vertical-align: middle;\n",
       "    }\n",
       "\n",
       "    .dataframe tbody tr th {\n",
       "        vertical-align: top;\n",
       "    }\n",
       "\n",
       "    .dataframe thead th {\n",
       "        text-align: right;\n",
       "    }\n",
       "</style>\n",
       "<table border=\"1\" class=\"dataframe\">\n",
       "  <thead>\n",
       "    <tr style=\"text-align: right;\">\n",
       "      <th></th>\n",
       "      <th>model</th>\n",
       "      <th>vectorizer</th>\n",
       "      <th>cross_val_score</th>\n",
       "      <th>train accuracy</th>\n",
       "      <th>test accuracy</th>\n",
       "      <th>precision</th>\n",
       "      <th>recall</th>\n",
       "      <th>f1_score</th>\n",
       "      <th>roc_auc</th>\n",
       "    </tr>\n",
       "  </thead>\n",
       "  <tbody>\n",
       "    <tr>\n",
       "      <th>0</th>\n",
       "      <td>Logistic Regression GridSearchCV</td>\n",
       "      <td>cvec</td>\n",
       "      <td>0.875745</td>\n",
       "      <td>0.973617</td>\n",
       "      <td>0.890873</td>\n",
       "      <td>0.932584</td>\n",
       "      <td>0.794258</td>\n",
       "      <td>0.857881</td>\n",
       "      <td>0.949899</td>\n",
       "    </tr>\n",
       "    <tr>\n",
       "      <th>1</th>\n",
       "      <td>Logistic Regression GridSearchCV</td>\n",
       "      <td>tvec</td>\n",
       "      <td>0.884255</td>\n",
       "      <td>0.999149</td>\n",
       "      <td>0.900794</td>\n",
       "      <td>0.944134</td>\n",
       "      <td>0.808612</td>\n",
       "      <td>0.871134</td>\n",
       "      <td>0.952396</td>\n",
       "    </tr>\n",
       "    <tr>\n",
       "      <th>2</th>\n",
       "      <td>Naive Bayes GridSearchCV</td>\n",
       "      <td>cvec</td>\n",
       "      <td>0.890213</td>\n",
       "      <td>0.941277</td>\n",
       "      <td>0.906746</td>\n",
       "      <td>0.917526</td>\n",
       "      <td>0.851675</td>\n",
       "      <td>0.883375</td>\n",
       "      <td>0.946590</td>\n",
       "    </tr>\n",
       "    <tr>\n",
       "      <th>3</th>\n",
       "      <td>Naive Bayes GridSearchCV</td>\n",
       "      <td>tvec</td>\n",
       "      <td>0.886809</td>\n",
       "      <td>0.969362</td>\n",
       "      <td>0.894841</td>\n",
       "      <td>0.923913</td>\n",
       "      <td>0.813397</td>\n",
       "      <td>0.865140</td>\n",
       "      <td>0.950191</td>\n",
       "    </tr>\n",
       "    <tr>\n",
       "      <th>4</th>\n",
       "      <td>Random Forest GridSearchCV</td>\n",
       "      <td>cvec</td>\n",
       "      <td>0.883404</td>\n",
       "      <td>0.994043</td>\n",
       "      <td>0.900794</td>\n",
       "      <td>0.934426</td>\n",
       "      <td>0.818182</td>\n",
       "      <td>0.872449</td>\n",
       "      <td>0.961885</td>\n",
       "    </tr>\n",
       "    <tr>\n",
       "      <th>5</th>\n",
       "      <td>Random Forest GridSearchCV</td>\n",
       "      <td>tvec</td>\n",
       "      <td>0.884255</td>\n",
       "      <td>1.000000</td>\n",
       "      <td>0.869048</td>\n",
       "      <td>0.913295</td>\n",
       "      <td>0.755981</td>\n",
       "      <td>0.827225</td>\n",
       "      <td>0.957862</td>\n",
       "    </tr>\n",
       "  </tbody>\n",
       "</table>\n",
       "</div>"
      ],
      "text/plain": [
       "                              model vectorizer  cross_val_score  \\\n",
       "0  Logistic Regression GridSearchCV       cvec         0.875745   \n",
       "1  Logistic Regression GridSearchCV       tvec         0.884255   \n",
       "2          Naive Bayes GridSearchCV       cvec         0.890213   \n",
       "3          Naive Bayes GridSearchCV       tvec         0.886809   \n",
       "4        Random Forest GridSearchCV       cvec         0.883404   \n",
       "5        Random Forest GridSearchCV       tvec         0.884255   \n",
       "\n",
       "   train accuracy  test accuracy  precision    recall  f1_score   roc_auc  \n",
       "0        0.973617       0.890873   0.932584  0.794258  0.857881  0.949899  \n",
       "1        0.999149       0.900794   0.944134  0.808612  0.871134  0.952396  \n",
       "2        0.941277       0.906746   0.917526  0.851675  0.883375  0.946590  \n",
       "3        0.969362       0.894841   0.923913  0.813397  0.865140  0.950191  \n",
       "4        0.994043       0.900794   0.934426  0.818182  0.872449  0.961885  \n",
       "5        1.000000       0.869048   0.913295  0.755981  0.827225  0.957862  "
      ]
     },
     "execution_count": 48,
     "metadata": {},
     "output_type": "execute_result"
    }
   ],
   "source": [
    "# Updated evaluation list\n",
    "pd.DataFrame(evaluation_list)"
   ]
  },
  {
   "cell_type": "markdown",
   "id": "78bd3acb",
   "metadata": {},
   "source": [
    "According to the Confusion Matrix, it shows that the Random Forest Classifier model with TFIDFVectorizer was able to correctly predict total 438 posts out of 504 posts. 15 False Positive (type I error) and 51 False Negative (type II error) that bring the Test Accuracy to 86.9%. As compared to Train accuracy, it still shows the model was overfitted. With 51 type II errors, it bring the recall score to 75.6% and 15 type I errors allow the precision score at 91.3%. F1-score of 82.7% and ROC AUC score 95.8% both show the model is considered relatively good in classifying the posts.\n",
    "\n",
    "However, the 100% score in Train accuracy shows the model was overfitted and it will not be able to generalize to new datasets. Overally, we do not see much improvements in score and accuracy from Naive Bayes to Random Forest Classifier. In fact the model have the lowest score in test accuracy, precision, recall and f1-score."
   ]
  },
  {
   "cell_type": "markdown",
   "id": "252e30e6",
   "metadata": {},
   "source": [
    "### 7.6 Final Model"
   ]
  },
  {
   "cell_type": "code",
   "execution_count": 49,
   "id": "84b05038",
   "metadata": {},
   "outputs": [
    {
     "data": {
      "text/html": [
       "<div>\n",
       "<style scoped>\n",
       "    .dataframe tbody tr th:only-of-type {\n",
       "        vertical-align: middle;\n",
       "    }\n",
       "\n",
       "    .dataframe tbody tr th {\n",
       "        vertical-align: top;\n",
       "    }\n",
       "\n",
       "    .dataframe thead th {\n",
       "        text-align: right;\n",
       "    }\n",
       "</style>\n",
       "<table border=\"1\" class=\"dataframe\">\n",
       "  <thead>\n",
       "    <tr style=\"text-align: right;\">\n",
       "      <th></th>\n",
       "      <th>model</th>\n",
       "      <th>vectorizer</th>\n",
       "      <th>cross_val_score</th>\n",
       "      <th>train accuracy</th>\n",
       "      <th>test accuracy</th>\n",
       "      <th>precision</th>\n",
       "      <th>recall</th>\n",
       "      <th>f1_score</th>\n",
       "      <th>roc_auc</th>\n",
       "    </tr>\n",
       "  </thead>\n",
       "  <tbody>\n",
       "    <tr>\n",
       "      <th>2</th>\n",
       "      <td>Naive Bayes GridSearchCV</td>\n",
       "      <td>cvec</td>\n",
       "      <td>0.890213</td>\n",
       "      <td>0.941277</td>\n",
       "      <td>0.906746</td>\n",
       "      <td>0.917526</td>\n",
       "      <td>0.851675</td>\n",
       "      <td>0.883375</td>\n",
       "      <td>0.946590</td>\n",
       "    </tr>\n",
       "    <tr>\n",
       "      <th>4</th>\n",
       "      <td>Random Forest GridSearchCV</td>\n",
       "      <td>cvec</td>\n",
       "      <td>0.883404</td>\n",
       "      <td>0.994043</td>\n",
       "      <td>0.900794</td>\n",
       "      <td>0.934426</td>\n",
       "      <td>0.818182</td>\n",
       "      <td>0.872449</td>\n",
       "      <td>0.961885</td>\n",
       "    </tr>\n",
       "    <tr>\n",
       "      <th>3</th>\n",
       "      <td>Naive Bayes GridSearchCV</td>\n",
       "      <td>tvec</td>\n",
       "      <td>0.886809</td>\n",
       "      <td>0.969362</td>\n",
       "      <td>0.894841</td>\n",
       "      <td>0.923913</td>\n",
       "      <td>0.813397</td>\n",
       "      <td>0.865140</td>\n",
       "      <td>0.950191</td>\n",
       "    </tr>\n",
       "    <tr>\n",
       "      <th>1</th>\n",
       "      <td>Logistic Regression GridSearchCV</td>\n",
       "      <td>tvec</td>\n",
       "      <td>0.884255</td>\n",
       "      <td>0.999149</td>\n",
       "      <td>0.900794</td>\n",
       "      <td>0.944134</td>\n",
       "      <td>0.808612</td>\n",
       "      <td>0.871134</td>\n",
       "      <td>0.952396</td>\n",
       "    </tr>\n",
       "    <tr>\n",
       "      <th>0</th>\n",
       "      <td>Logistic Regression GridSearchCV</td>\n",
       "      <td>cvec</td>\n",
       "      <td>0.875745</td>\n",
       "      <td>0.973617</td>\n",
       "      <td>0.890873</td>\n",
       "      <td>0.932584</td>\n",
       "      <td>0.794258</td>\n",
       "      <td>0.857881</td>\n",
       "      <td>0.949899</td>\n",
       "    </tr>\n",
       "    <tr>\n",
       "      <th>5</th>\n",
       "      <td>Random Forest GridSearchCV</td>\n",
       "      <td>tvec</td>\n",
       "      <td>0.884255</td>\n",
       "      <td>1.000000</td>\n",
       "      <td>0.869048</td>\n",
       "      <td>0.913295</td>\n",
       "      <td>0.755981</td>\n",
       "      <td>0.827225</td>\n",
       "      <td>0.957862</td>\n",
       "    </tr>\n",
       "  </tbody>\n",
       "</table>\n",
       "</div>"
      ],
      "text/plain": [
       "                              model vectorizer  cross_val_score  \\\n",
       "2          Naive Bayes GridSearchCV       cvec         0.890213   \n",
       "4        Random Forest GridSearchCV       cvec         0.883404   \n",
       "3          Naive Bayes GridSearchCV       tvec         0.886809   \n",
       "1  Logistic Regression GridSearchCV       tvec         0.884255   \n",
       "0  Logistic Regression GridSearchCV       cvec         0.875745   \n",
       "5        Random Forest GridSearchCV       tvec         0.884255   \n",
       "\n",
       "   train accuracy  test accuracy  precision    recall  f1_score   roc_auc  \n",
       "2        0.941277       0.906746   0.917526  0.851675  0.883375  0.946590  \n",
       "4        0.994043       0.900794   0.934426  0.818182  0.872449  0.961885  \n",
       "3        0.969362       0.894841   0.923913  0.813397  0.865140  0.950191  \n",
       "1        0.999149       0.900794   0.944134  0.808612  0.871134  0.952396  \n",
       "0        0.973617       0.890873   0.932584  0.794258  0.857881  0.949899  \n",
       "5        1.000000       0.869048   0.913295  0.755981  0.827225  0.957862  "
      ]
     },
     "execution_count": 49,
     "metadata": {},
     "output_type": "execute_result"
    }
   ],
   "source": [
    "# convert the evaluation list into dataframe for data manipulation\n",
    "evaluation_df = pd.DataFrame(evaluation_list)\n",
    "\n",
    "# Sorted the evaluation dataframe by 'recall' and 'roc_auc' score\n",
    "evaluation_df.sort_values(by = ['recall','roc_auc'], ascending=False)"
   ]
  },
  {
   "cell_type": "markdown",
   "id": "d4a09430",
   "metadata": {},
   "source": [
    "From the evaluation list of models we build, it shows that `Multinomial Naive Bayes` with `Count Vectorizer` top the list with highest __f1-score, recall score and test accuracy__. The model also shows less in overfitting as compared to the rest of models. Hence we decided to select Naive Bayes with Count Vectorizer as our final model to explore our top predictors and features.\n",
    "\n",
    "In summary our Final Model:\n",
    "- Multinomial Naive Bayes with alpha 3\n",
    "- fit_prior to be False means a uniform prior will be used for class prior probabilities\n",
    "- Use Count Vectorizer with no max feature limit\n",
    "- include only single gram\n",
    "- ignore terms that appear in more than 30% of the documents\n",
    "- ignore terms that appear in less than 2 documents"
   ]
  },
  {
   "cell_type": "markdown",
   "id": "27467307",
   "metadata": {},
   "source": [
    "### 7.7 Model Insights"
   ]
  },
  {
   "cell_type": "code",
   "execution_count": 50,
   "id": "c6bab6e1",
   "metadata": {},
   "outputs": [],
   "source": [
    "# create index_list from nb_cvec_gs\n",
    "index_list = nb_cvec_gs.best_estimator_.named_steps.cvec.get_feature_names()\n",
    "\n",
    "# create yoga and meditation probabilities\n",
    "yoga_prob = np.exp(nb_cvec_gs.best_estimator_.named_steps.c_nb.feature_log_prob_[1])\n",
    "meditation_prob = np.exp(nb_cvec_gs.best_estimator_.named_steps.c_nb.feature_log_prob_[0]) \n",
    "\n",
    "# create dataframe for yoga and meditation probabilities\n",
    "yoga_prob_df = pd.DataFrame(yoga_prob, index=index_list).rename(columns={0:'prob'}).reset_index()\n",
    "meditation_prob_df = pd.DataFrame(meditation_prob, index=index_list).rename(columns={0:'prob'}).reset_index()"
   ]
  },
  {
   "cell_type": "code",
   "execution_count": 51,
   "id": "97297081",
   "metadata": {},
   "outputs": [
    {
     "data": {
      "text/html": [
       "<div>\n",
       "<style scoped>\n",
       "    .dataframe tbody tr th:only-of-type {\n",
       "        vertical-align: middle;\n",
       "    }\n",
       "\n",
       "    .dataframe tbody tr th {\n",
       "        vertical-align: top;\n",
       "    }\n",
       "\n",
       "    .dataframe thead th {\n",
       "        text-align: right;\n",
       "    }\n",
       "</style>\n",
       "<table border=\"1\" class=\"dataframe\">\n",
       "  <thead>\n",
       "    <tr style=\"text-align: right;\">\n",
       "      <th></th>\n",
       "      <th>index</th>\n",
       "      <th>prob</th>\n",
       "    </tr>\n",
       "  </thead>\n",
       "  <tbody>\n",
       "    <tr>\n",
       "      <th>2469</th>\n",
       "      <td>practice</td>\n",
       "      <td>0.007282</td>\n",
       "    </tr>\n",
       "    <tr>\n",
       "      <th>2443</th>\n",
       "      <td>pose</td>\n",
       "      <td>0.006692</td>\n",
       "    </tr>\n",
       "    <tr>\n",
       "      <th>609</th>\n",
       "      <td>class</td>\n",
       "      <td>0.006415</td>\n",
       "    </tr>\n",
       "    <tr>\n",
       "      <th>3360</th>\n",
       "      <td>time</td>\n",
       "      <td>0.005444</td>\n",
       "    </tr>\n",
       "    <tr>\n",
       "      <th>1268</th>\n",
       "      <td>feel</td>\n",
       "      <td>0.005236</td>\n",
       "    </tr>\n",
       "    <tr>\n",
       "      <th>847</th>\n",
       "      <td>day</td>\n",
       "      <td>0.005062</td>\n",
       "    </tr>\n",
       "    <tr>\n",
       "      <th>1828</th>\n",
       "      <td>know</td>\n",
       "      <td>0.004993</td>\n",
       "    </tr>\n",
       "    <tr>\n",
       "      <th>3683</th>\n",
       "      <td>year</td>\n",
       "      <td>0.004958</td>\n",
       "    </tr>\n",
       "    <tr>\n",
       "      <th>3522</th>\n",
       "      <td>ve</td>\n",
       "      <td>0.003988</td>\n",
       "    </tr>\n",
       "    <tr>\n",
       "      <th>3570</th>\n",
       "      <td>want</td>\n",
       "      <td>0.003953</td>\n",
       "    </tr>\n",
       "    <tr>\n",
       "      <th>428</th>\n",
       "      <td>body</td>\n",
       "      <td>0.003710</td>\n",
       "    </tr>\n",
       "    <tr>\n",
       "      <th>3286</th>\n",
       "      <td>teacher</td>\n",
       "      <td>0.003675</td>\n",
       "    </tr>\n",
       "    <tr>\n",
       "      <th>2634</th>\n",
       "      <td>really</td>\n",
       "      <td>0.003641</td>\n",
       "    </tr>\n",
       "    <tr>\n",
       "      <th>1541</th>\n",
       "      <td>help</td>\n",
       "      <td>0.003606</td>\n",
       "    </tr>\n",
       "    <tr>\n",
       "      <th>2015</th>\n",
       "      <td>mat</td>\n",
       "      <td>0.003329</td>\n",
       "    </tr>\n",
       "    <tr>\n",
       "      <th>3601</th>\n",
       "      <td>week</td>\n",
       "      <td>0.003294</td>\n",
       "    </tr>\n",
       "    <tr>\n",
       "      <th>2303</th>\n",
       "      <td>pain</td>\n",
       "      <td>0.003086</td>\n",
       "    </tr>\n",
       "    <tr>\n",
       "      <th>3335</th>\n",
       "      <td>thing</td>\n",
       "      <td>0.003086</td>\n",
       "    </tr>\n",
       "    <tr>\n",
       "      <th>3590</th>\n",
       "      <td>way</td>\n",
       "      <td>0.003017</td>\n",
       "    </tr>\n",
       "    <tr>\n",
       "      <th>1419</th>\n",
       "      <td>good</td>\n",
       "      <td>0.002982</td>\n",
       "    </tr>\n",
       "  </tbody>\n",
       "</table>\n",
       "</div>"
      ],
      "text/plain": [
       "         index      prob\n",
       "2469  practice  0.007282\n",
       "2443      pose  0.006692\n",
       "609      class  0.006415\n",
       "3360      time  0.005444\n",
       "1268      feel  0.005236\n",
       "847        day  0.005062\n",
       "1828      know  0.004993\n",
       "3683      year  0.004958\n",
       "3522        ve  0.003988\n",
       "3570      want  0.003953\n",
       "428       body  0.003710\n",
       "3286   teacher  0.003675\n",
       "2634    really  0.003641\n",
       "1541      help  0.003606\n",
       "2015       mat  0.003329\n",
       "3601      week  0.003294\n",
       "2303      pain  0.003086\n",
       "3335     thing  0.003086\n",
       "3590       way  0.003017\n",
       "1419      good  0.002982"
      ]
     },
     "execution_count": 51,
     "metadata": {},
     "output_type": "execute_result"
    }
   ],
   "source": [
    "# print top 20 words with highest probabilities in r/yoga\n",
    "yoga_prob_df = yoga_prob_df.sort_values('prob', ascending=False)\n",
    "yoga_prob_df.head(20)"
   ]
  },
  {
   "cell_type": "code",
   "execution_count": 52,
   "id": "42c643f7",
   "metadata": {},
   "outputs": [
    {
     "name": "stdout",
     "output_type": "stream",
     "text": [
      "['practice' 'pose' 'class' 'time' 'feel' 'day' 'know' 'year' 've' 'want'\n",
      " 'body' 'teacher' 'really' 'help' 'mat' 'week' 'pain' 'thing' 'way' 'good']\n"
     ]
    }
   ],
   "source": [
    "print(yoga_prob_df.head(20)['index'].values)"
   ]
  },
  {
   "cell_type": "code",
   "execution_count": 53,
   "id": "3b8a7efa",
   "metadata": {},
   "outputs": [
    {
     "data": {
      "text/html": [
       "<div>\n",
       "<style scoped>\n",
       "    .dataframe tbody tr th:only-of-type {\n",
       "        vertical-align: middle;\n",
       "    }\n",
       "\n",
       "    .dataframe tbody tr th {\n",
       "        vertical-align: top;\n",
       "    }\n",
       "\n",
       "    .dataframe thead th {\n",
       "        text-align: right;\n",
       "    }\n",
       "</style>\n",
       "<table border=\"1\" class=\"dataframe\">\n",
       "  <thead>\n",
       "    <tr style=\"text-align: right;\">\n",
       "      <th></th>\n",
       "      <th>index</th>\n",
       "      <th>prob</th>\n",
       "    </tr>\n",
       "  </thead>\n",
       "  <tbody>\n",
       "    <tr>\n",
       "      <th>1268</th>\n",
       "      <td>feel</td>\n",
       "      <td>0.009394</td>\n",
       "    </tr>\n",
       "    <tr>\n",
       "      <th>3340</th>\n",
       "      <td>thought</td>\n",
       "      <td>0.008079</td>\n",
       "    </tr>\n",
       "    <tr>\n",
       "      <th>3360</th>\n",
       "      <td>time</td>\n",
       "      <td>0.007709</td>\n",
       "    </tr>\n",
       "    <tr>\n",
       "      <th>2076</th>\n",
       "      <td>mind</td>\n",
       "      <td>0.006440</td>\n",
       "    </tr>\n",
       "    <tr>\n",
       "      <th>2039</th>\n",
       "      <td>meditating</td>\n",
       "      <td>0.006094</td>\n",
       "    </tr>\n",
       "    <tr>\n",
       "      <th>1890</th>\n",
       "      <td>life</td>\n",
       "      <td>0.005401</td>\n",
       "    </tr>\n",
       "    <tr>\n",
       "      <th>847</th>\n",
       "      <td>day</td>\n",
       "      <td>0.005401</td>\n",
       "    </tr>\n",
       "    <tr>\n",
       "      <th>1828</th>\n",
       "      <td>know</td>\n",
       "      <td>0.005101</td>\n",
       "    </tr>\n",
       "    <tr>\n",
       "      <th>3335</th>\n",
       "      <td>thing</td>\n",
       "      <td>0.004547</td>\n",
       "    </tr>\n",
       "    <tr>\n",
       "      <th>3570</th>\n",
       "      <td>want</td>\n",
       "      <td>0.004478</td>\n",
       "    </tr>\n",
       "    <tr>\n",
       "      <th>1195</th>\n",
       "      <td>experience</td>\n",
       "      <td>0.004455</td>\n",
       "    </tr>\n",
       "    <tr>\n",
       "      <th>2037</th>\n",
       "      <td>meditate</td>\n",
       "      <td>0.004432</td>\n",
       "    </tr>\n",
       "    <tr>\n",
       "      <th>2634</th>\n",
       "      <td>really</td>\n",
       "      <td>0.004362</td>\n",
       "    </tr>\n",
       "    <tr>\n",
       "      <th>2469</th>\n",
       "      <td>practice</td>\n",
       "      <td>0.004201</td>\n",
       "    </tr>\n",
       "    <tr>\n",
       "      <th>3590</th>\n",
       "      <td>way</td>\n",
       "      <td>0.004016</td>\n",
       "    </tr>\n",
       "    <tr>\n",
       "      <th>1269</th>\n",
       "      <td>feeling</td>\n",
       "      <td>0.003855</td>\n",
       "    </tr>\n",
       "    <tr>\n",
       "      <th>1541</th>\n",
       "      <td>help</td>\n",
       "      <td>0.003855</td>\n",
       "    </tr>\n",
       "    <tr>\n",
       "      <th>3683</th>\n",
       "      <td>year</td>\n",
       "      <td>0.003578</td>\n",
       "    </tr>\n",
       "    <tr>\n",
       "      <th>1988</th>\n",
       "      <td>make</td>\n",
       "      <td>0.003555</td>\n",
       "    </tr>\n",
       "    <tr>\n",
       "      <th>460</th>\n",
       "      <td>breath</td>\n",
       "      <td>0.003393</td>\n",
       "    </tr>\n",
       "  </tbody>\n",
       "</table>\n",
       "</div>"
      ],
      "text/plain": [
       "           index      prob\n",
       "1268        feel  0.009394\n",
       "3340     thought  0.008079\n",
       "3360        time  0.007709\n",
       "2076        mind  0.006440\n",
       "2039  meditating  0.006094\n",
       "1890        life  0.005401\n",
       "847          day  0.005401\n",
       "1828        know  0.005101\n",
       "3335       thing  0.004547\n",
       "3570        want  0.004478\n",
       "1195  experience  0.004455\n",
       "2037    meditate  0.004432\n",
       "2634      really  0.004362\n",
       "2469    practice  0.004201\n",
       "3590         way  0.004016\n",
       "1269     feeling  0.003855\n",
       "1541        help  0.003855\n",
       "3683        year  0.003578\n",
       "1988        make  0.003555\n",
       "460       breath  0.003393"
      ]
     },
     "execution_count": 53,
     "metadata": {},
     "output_type": "execute_result"
    }
   ],
   "source": [
    "# print top 20 words with highest probabilities in r/Meditation\n",
    "meditation_prob_df = meditation_prob_df.sort_values('prob', ascending=False)\n",
    "meditation_prob_df.head(20)"
   ]
  },
  {
   "cell_type": "code",
   "execution_count": 54,
   "id": "a43ad0b3",
   "metadata": {
    "scrolled": false
   },
   "outputs": [
    {
     "data": {
      "image/png": "[encoded data removed]",
      "text/plain": [
       "<Figure size 1296x720 with 2 Axes>"
      ]
     },
     "metadata": {
      "needs_background": "light"
     },
     "output_type": "display_data"
    }
   ],
   "source": [
    "# plot the top 20 highest probabilities of words\n",
    "subplot_top_proba(yoga_prob_df, meditation_prob_df, n=20, title='Top 20 Highest Probabilities Words')"
   ]
  },
  {
   "cell_type": "markdown",
   "id": "6b27154b",
   "metadata": {},
   "source": [
    "- From the bar plots above, it shows the __Top 20 Highest Probabilities Predictors (words)__ that appearing in the class (Yoga Enthusiasts) out of all the words in the corpus. Top 3 of highest probabilities preditros are `class`, `pose` and `practice` which are all good predictors to indicate as Yoga Enthusiasts' posts. \n",
    "- Besides that, we also noticed that `mat`, `teacher`, `feel`, `body` and `pain` are in the list as well, it shows that there is a trending that the subrredit community members are posting on these keywords related posts which we able to use it for our marketing strategies development. \n",
    "- Lastly, it also revealed some of the less meaningful words like `day`, `ve`, `year`, `week`, `want`, `help`, `time`, `know`, `really`, `good`, `thing` and `way` that have high probabilities of appearing in the class out of all the words in the corpus.\n",
    "\n",
    " \n",
    "__Note:__ Do note that although these are the highes probabilities of predictors, but it does not mean it will be 100% predict it as Yoga Enthusiasts merely on the word itself. Eventually the model will still evaluate the whole document or subreddit to classify accordingly."
   ]
  },
  {
   "cell_type": "code",
   "execution_count": 55,
   "id": "139b57ec",
   "metadata": {},
   "outputs": [
    {
     "data": {
      "text/plain": [
       "2469    practice\n",
       "2443        pose\n",
       "609        class\n",
       "Name: index, dtype: object"
      ]
     },
     "execution_count": 55,
     "metadata": {},
     "output_type": "execute_result"
    }
   ],
   "source": [
    "# identify the top 3 predictors from r/yoga\n",
    "yoga_prob_df['index'].head(3)   "
   ]
  },
  {
   "cell_type": "code",
   "execution_count": 56,
   "id": "7a4c9cdd",
   "metadata": {},
   "outputs": [
    {
     "name": "stdout",
     "output_type": "stream",
     "text": [
      "(181, 22)\n"
     ]
    },
    {
     "data": {
      "text/html": [
       "<div>\n",
       "<style scoped>\n",
       "    .dataframe tbody tr th:only-of-type {\n",
       "        vertical-align: middle;\n",
       "    }\n",
       "\n",
       "    .dataframe tbody tr th {\n",
       "        vertical-align: top;\n",
       "    }\n",
       "\n",
       "    .dataframe thead th {\n",
       "        text-align: right;\n",
       "    }\n",
       "</style>\n",
       "<table border=\"1\" class=\"dataframe\">\n",
       "  <thead>\n",
       "    <tr style=\"text-align: right;\">\n",
       "      <th></th>\n",
       "      <th>is_yoga</th>\n",
       "      <th>title</th>\n",
       "      <th>selftext</th>\n",
       "      <th>is_self</th>\n",
       "      <th>num_comments</th>\n",
       "      <th>created_utc</th>\n",
       "      <th>created</th>\n",
       "      <th>removed_by_category</th>\n",
       "      <th>author</th>\n",
       "      <th>permalink</th>\n",
       "      <th>...</th>\n",
       "      <th>clean_title</th>\n",
       "      <th>clean_selftext</th>\n",
       "      <th>combine_text</th>\n",
       "      <th>lem_title</th>\n",
       "      <th>lem_selftext</th>\n",
       "      <th>lem_combine_text</th>\n",
       "      <th>title_length</th>\n",
       "      <th>title_wcount</th>\n",
       "      <th>selftext_length</th>\n",
       "      <th>selftext_wcount</th>\n",
       "    </tr>\n",
       "  </thead>\n",
       "  <tbody>\n",
       "    <tr>\n",
       "      <th>2</th>\n",
       "      <td>1</td>\n",
       "      <td>Yoga with COVID</td>\n",
       "      <td>Hi all. \\n\\nI was diagnosed with COVID last we...</td>\n",
       "      <td>True</td>\n",
       "      <td>0</td>\n",
       "      <td>1640895222</td>\n",
       "      <td>2021-12-31 04:13:42</td>\n",
       "      <td>NaN</td>\n",
       "      <td>dreamingofcupcakes</td>\n",
       "      <td>/r/yoga/comments/rsazdv/yoga_with_covid/</td>\n",
       "      <td>...</td>\n",
       "      <td>yoga with covid</td>\n",
       "      <td>hi all i was diagnosed with covid last week an...</td>\n",
       "      <td>yoga with covid hi all i was diagnosed with co...</td>\n",
       "      <td>covid</td>\n",
       "      <td>hi diagnosed covid week really giving real bad...</td>\n",
       "      <td>covid hi diagnosed covid week really giving re...</td>\n",
       "      <td>15</td>\n",
       "      <td>3</td>\n",
       "      <td>526</td>\n",
       "      <td>92</td>\n",
       "    </tr>\n",
       "    <tr>\n",
       "      <th>3</th>\n",
       "      <td>1</td>\n",
       "      <td>My heart is so full.</td>\n",
       "      <td>I just came from a 75 minute class and I was s...</td>\n",
       "      <td>True</td>\n",
       "      <td>0</td>\n",
       "      <td>1640885021</td>\n",
       "      <td>2021-12-31 01:23:41</td>\n",
       "      <td>NaN</td>\n",
       "      <td>nachosmmm</td>\n",
       "      <td>/r/yoga/comments/rs6zpd/my_heart_is_so_full/</td>\n",
       "      <td>...</td>\n",
       "      <td>my heart is so full</td>\n",
       "      <td>i just came from a 75 minute class and i was s...</td>\n",
       "      <td>my heart is so full i just came from a 75 minu...</td>\n",
       "      <td>heart</td>\n",
       "      <td>came 75 minute class sobbing end teacher amazi...</td>\n",
       "      <td>heart came 75 minute class sobbing end teacher...</td>\n",
       "      <td>19</td>\n",
       "      <td>5</td>\n",
       "      <td>1017</td>\n",
       "      <td>206</td>\n",
       "    </tr>\n",
       "    <tr>\n",
       "      <th>7</th>\n",
       "      <td>1</td>\n",
       "      <td>Men's Yoga Suggestions?</td>\n",
       "      <td>Hello everyone!\\n\\nI have convinced my husband...</td>\n",
       "      <td>True</td>\n",
       "      <td>0</td>\n",
       "      <td>1640851343</td>\n",
       "      <td>2021-12-30 16:02:23</td>\n",
       "      <td>NaN</td>\n",
       "      <td>littlemsmuffet</td>\n",
       "      <td>/r/yoga/comments/rrwb7e/mens_yoga_suggestions/</td>\n",
       "      <td>...</td>\n",
       "      <td>mens yoga suggestions</td>\n",
       "      <td>hello everyone i have convinced my husband to ...</td>\n",
       "      <td>mens yoga suggestions hello everyone i have co...</td>\n",
       "      <td>men suggestion</td>\n",
       "      <td>hello convinced husband adrienne beginning yea...</td>\n",
       "      <td>men suggestion hello convinced husband adrienn...</td>\n",
       "      <td>21</td>\n",
       "      <td>3</td>\n",
       "      <td>532</td>\n",
       "      <td>106</td>\n",
       "    </tr>\n",
       "    <tr>\n",
       "      <th>9</th>\n",
       "      <td>1</td>\n",
       "      <td>Pelvic tilt and yoga practice.</td>\n",
       "      <td>Just want to share with You something that mig...</td>\n",
       "      <td>True</td>\n",
       "      <td>0</td>\n",
       "      <td>1640838938</td>\n",
       "      <td>2021-12-30 12:35:38</td>\n",
       "      <td>NaN</td>\n",
       "      <td>Zuallemfahig</td>\n",
       "      <td>/r/yoga/comments/rrslkg/pelvic_tilt_and_yoga_p...</td>\n",
       "      <td>...</td>\n",
       "      <td>pelvic tilt and yoga practice</td>\n",
       "      <td>just want to share with you something that mig...</td>\n",
       "      <td>pelvic tilt and yoga practice just want to sha...</td>\n",
       "      <td>pelvic tilt practice</td>\n",
       "      <td>want share obvious amazing thing discovered pe...</td>\n",
       "      <td>pelvic tilt practice want share obvious amazin...</td>\n",
       "      <td>29</td>\n",
       "      <td>5</td>\n",
       "      <td>779</td>\n",
       "      <td>146</td>\n",
       "    </tr>\n",
       "    <tr>\n",
       "      <th>11</th>\n",
       "      <td>1</td>\n",
       "      <td>Hips are always tight, even with consistent pr...</td>\n",
       "      <td>Hey everyone. I have an issue - it seems that ...</td>\n",
       "      <td>True</td>\n",
       "      <td>0</td>\n",
       "      <td>1640833072</td>\n",
       "      <td>2021-12-30 10:57:52</td>\n",
       "      <td>NaN</td>\n",
       "      <td>pinsandn33dles</td>\n",
       "      <td>/r/yoga/comments/rrqlvx/hips_are_always_tight_...</td>\n",
       "      <td>...</td>\n",
       "      <td>hips are always tight even with consistent pra...</td>\n",
       "      <td>hey everyone i have an issue  it seems that no...</td>\n",
       "      <td>hips are always tight even with consistent pra...</td>\n",
       "      <td>hip tight consistent practice</td>\n",
       "      <td>hey issue matter practice routine hip tight ty...</td>\n",
       "      <td>hip tight consistent practice hey issue matter...</td>\n",
       "      <td>51</td>\n",
       "      <td>8</td>\n",
       "      <td>1372</td>\n",
       "      <td>266</td>\n",
       "    </tr>\n",
       "  </tbody>\n",
       "</table>\n",
       "<p>5 rows × 22 columns</p>\n",
       "</div>"
      ],
      "text/plain": [
       "    is_yoga                                              title  \\\n",
       "2         1                                    Yoga with COVID   \n",
       "3         1                               My heart is so full.   \n",
       "7         1                            Men's Yoga Suggestions?   \n",
       "9         1                     Pelvic tilt and yoga practice.   \n",
       "11        1  Hips are always tight, even with consistent pr...   \n",
       "\n",
       "                                             selftext  is_self  num_comments  \\\n",
       "2   Hi all. \\n\\nI was diagnosed with COVID last we...     True             0   \n",
       "3   I just came from a 75 minute class and I was s...     True             0   \n",
       "7   Hello everyone!\\n\\nI have convinced my husband...     True             0   \n",
       "9   Just want to share with You something that mig...     True             0   \n",
       "11  Hey everyone. I have an issue - it seems that ...     True             0   \n",
       "\n",
       "    created_utc              created  removed_by_category              author  \\\n",
       "2    1640895222  2021-12-31 04:13:42                  NaN  dreamingofcupcakes   \n",
       "3    1640885021  2021-12-31 01:23:41                  NaN           nachosmmm   \n",
       "7    1640851343  2021-12-30 16:02:23                  NaN      littlemsmuffet   \n",
       "9    1640838938  2021-12-30 12:35:38                  NaN        Zuallemfahig   \n",
       "11   1640833072  2021-12-30 10:57:52                  NaN      pinsandn33dles   \n",
       "\n",
       "                                            permalink  ...  \\\n",
       "2            /r/yoga/comments/rsazdv/yoga_with_covid/  ...   \n",
       "3        /r/yoga/comments/rs6zpd/my_heart_is_so_full/  ...   \n",
       "7      /r/yoga/comments/rrwb7e/mens_yoga_suggestions/  ...   \n",
       "9   /r/yoga/comments/rrslkg/pelvic_tilt_and_yoga_p...  ...   \n",
       "11  /r/yoga/comments/rrqlvx/hips_are_always_tight_...  ...   \n",
       "\n",
       "                                          clean_title  \\\n",
       "2                                     yoga with covid   \n",
       "3                                 my heart is so full   \n",
       "7                               mens yoga suggestions   \n",
       "9                       pelvic tilt and yoga practice   \n",
       "11  hips are always tight even with consistent pra...   \n",
       "\n",
       "                                       clean_selftext  \\\n",
       "2   hi all i was diagnosed with covid last week an...   \n",
       "3   i just came from a 75 minute class and i was s...   \n",
       "7   hello everyone i have convinced my husband to ...   \n",
       "9   just want to share with you something that mig...   \n",
       "11  hey everyone i have an issue  it seems that no...   \n",
       "\n",
       "                                         combine_text  \\\n",
       "2   yoga with covid hi all i was diagnosed with co...   \n",
       "3   my heart is so full i just came from a 75 minu...   \n",
       "7   mens yoga suggestions hello everyone i have co...   \n",
       "9   pelvic tilt and yoga practice just want to sha...   \n",
       "11  hips are always tight even with consistent pra...   \n",
       "\n",
       "                        lem_title  \\\n",
       "2                           covid   \n",
       "3                           heart   \n",
       "7                  men suggestion   \n",
       "9            pelvic tilt practice   \n",
       "11  hip tight consistent practice   \n",
       "\n",
       "                                         lem_selftext  \\\n",
       "2   hi diagnosed covid week really giving real bad...   \n",
       "3   came 75 minute class sobbing end teacher amazi...   \n",
       "7   hello convinced husband adrienne beginning yea...   \n",
       "9   want share obvious amazing thing discovered pe...   \n",
       "11  hey issue matter practice routine hip tight ty...   \n",
       "\n",
       "                                     lem_combine_text title_length  \\\n",
       "2   covid hi diagnosed covid week really giving re...           15   \n",
       "3   heart came 75 minute class sobbing end teacher...           19   \n",
       "7   men suggestion hello convinced husband adrienn...           21   \n",
       "9   pelvic tilt practice want share obvious amazin...           29   \n",
       "11  hip tight consistent practice hey issue matter...           51   \n",
       "\n",
       "   title_wcount  selftext_length  selftext_wcount  \n",
       "2             3              526               92  \n",
       "3             5             1017              206  \n",
       "7             3              532              106  \n",
       "9             5              779              146  \n",
       "11            8             1372              266  \n",
       "\n",
       "[5 rows x 22 columns]"
      ]
     },
     "execution_count": 56,
     "metadata": {},
     "output_type": "execute_result"
    }
   ],
   "source": [
    "# show first 5 rows of the datasets with yoga enthusiasts and with top predictor of 'practice'\n",
    "print(yoga_medit[(yoga_medit['lem_combine_text'].str.contains('practice'))&(yoga_medit['is_yoga']==1)].shape)\n",
    "yoga_medit[(yoga_medit['lem_combine_text'].str.contains('practice'))&(yoga_medit['is_yoga']==1)].head()"
   ]
  },
  {
   "cell_type": "code",
   "execution_count": 57,
   "id": "640156ee",
   "metadata": {},
   "outputs": [
    {
     "name": "stdout",
     "output_type": "stream",
     "text": [
      "(177, 22)\n"
     ]
    },
    {
     "data": {
      "text/html": [
       "<div>\n",
       "<style scoped>\n",
       "    .dataframe tbody tr th:only-of-type {\n",
       "        vertical-align: middle;\n",
       "    }\n",
       "\n",
       "    .dataframe tbody tr th {\n",
       "        vertical-align: top;\n",
       "    }\n",
       "\n",
       "    .dataframe thead th {\n",
       "        text-align: right;\n",
       "    }\n",
       "</style>\n",
       "<table border=\"1\" class=\"dataframe\">\n",
       "  <thead>\n",
       "    <tr style=\"text-align: right;\">\n",
       "      <th></th>\n",
       "      <th>is_yoga</th>\n",
       "      <th>title</th>\n",
       "      <th>selftext</th>\n",
       "      <th>is_self</th>\n",
       "      <th>num_comments</th>\n",
       "      <th>created_utc</th>\n",
       "      <th>created</th>\n",
       "      <th>removed_by_category</th>\n",
       "      <th>author</th>\n",
       "      <th>permalink</th>\n",
       "      <th>...</th>\n",
       "      <th>clean_title</th>\n",
       "      <th>clean_selftext</th>\n",
       "      <th>combine_text</th>\n",
       "      <th>lem_title</th>\n",
       "      <th>lem_selftext</th>\n",
       "      <th>lem_combine_text</th>\n",
       "      <th>title_length</th>\n",
       "      <th>title_wcount</th>\n",
       "      <th>selftext_length</th>\n",
       "      <th>selftext_wcount</th>\n",
       "    </tr>\n",
       "  </thead>\n",
       "  <tbody>\n",
       "    <tr>\n",
       "      <th>0</th>\n",
       "      <td>1</td>\n",
       "      <td>Extremely sore after my first hot vinyasa class</td>\n",
       "      <td>I am super out of shape so I am 90% sure that ...</td>\n",
       "      <td>True</td>\n",
       "      <td>0</td>\n",
       "      <td>1640903618</td>\n",
       "      <td>2021-12-31 06:33:38</td>\n",
       "      <td>NaN</td>\n",
       "      <td>meggriffinsglasses</td>\n",
       "      <td>/r/yoga/comments/rse7eh/extremely_sore_after_m...</td>\n",
       "      <td>...</td>\n",
       "      <td>extremely sore after my first hot vinyasa class</td>\n",
       "      <td>i am super out of shape so i am 90 sure that i...</td>\n",
       "      <td>extremely sore after my first hot vinyasa clas...</td>\n",
       "      <td>extremely sore hot vinyasa class</td>\n",
       "      <td>super shape 90 sure issue wanted know normal p...</td>\n",
       "      <td>extremely sore hot vinyasa class super shape 9...</td>\n",
       "      <td>47</td>\n",
       "      <td>8</td>\n",
       "      <td>1041</td>\n",
       "      <td>222</td>\n",
       "    </tr>\n",
       "    <tr>\n",
       "      <th>11</th>\n",
       "      <td>1</td>\n",
       "      <td>Hips are always tight, even with consistent pr...</td>\n",
       "      <td>Hey everyone. I have an issue - it seems that ...</td>\n",
       "      <td>True</td>\n",
       "      <td>0</td>\n",
       "      <td>1640833072</td>\n",
       "      <td>2021-12-30 10:57:52</td>\n",
       "      <td>NaN</td>\n",
       "      <td>pinsandn33dles</td>\n",
       "      <td>/r/yoga/comments/rrqlvx/hips_are_always_tight_...</td>\n",
       "      <td>...</td>\n",
       "      <td>hips are always tight even with consistent pra...</td>\n",
       "      <td>hey everyone i have an issue  it seems that no...</td>\n",
       "      <td>hips are always tight even with consistent pra...</td>\n",
       "      <td>hip tight consistent practice</td>\n",
       "      <td>hey issue matter practice routine hip tight ty...</td>\n",
       "      <td>hip tight consistent practice hey issue matter...</td>\n",
       "      <td>51</td>\n",
       "      <td>8</td>\n",
       "      <td>1372</td>\n",
       "      <td>266</td>\n",
       "    </tr>\n",
       "  </tbody>\n",
       "</table>\n",
       "<p>2 rows × 22 columns</p>\n",
       "</div>"
      ],
      "text/plain": [
       "    is_yoga                                              title  \\\n",
       "0         1    Extremely sore after my first hot vinyasa class   \n",
       "11        1  Hips are always tight, even with consistent pr...   \n",
       "\n",
       "                                             selftext  is_self  num_comments  \\\n",
       "0   I am super out of shape so I am 90% sure that ...     True             0   \n",
       "11  Hey everyone. I have an issue - it seems that ...     True             0   \n",
       "\n",
       "    created_utc              created  removed_by_category              author  \\\n",
       "0    1640903618  2021-12-31 06:33:38                  NaN  meggriffinsglasses   \n",
       "11   1640833072  2021-12-30 10:57:52                  NaN      pinsandn33dles   \n",
       "\n",
       "                                            permalink  ...  \\\n",
       "0   /r/yoga/comments/rse7eh/extremely_sore_after_m...  ...   \n",
       "11  /r/yoga/comments/rrqlvx/hips_are_always_tight_...  ...   \n",
       "\n",
       "                                          clean_title  \\\n",
       "0     extremely sore after my first hot vinyasa class   \n",
       "11  hips are always tight even with consistent pra...   \n",
       "\n",
       "                                       clean_selftext  \\\n",
       "0   i am super out of shape so i am 90 sure that i...   \n",
       "11  hey everyone i have an issue  it seems that no...   \n",
       "\n",
       "                                         combine_text  \\\n",
       "0   extremely sore after my first hot vinyasa clas...   \n",
       "11  hips are always tight even with consistent pra...   \n",
       "\n",
       "                           lem_title  \\\n",
       "0   extremely sore hot vinyasa class   \n",
       "11     hip tight consistent practice   \n",
       "\n",
       "                                         lem_selftext  \\\n",
       "0   super shape 90 sure issue wanted know normal p...   \n",
       "11  hey issue matter practice routine hip tight ty...   \n",
       "\n",
       "                                     lem_combine_text title_length  \\\n",
       "0   extremely sore hot vinyasa class super shape 9...           47   \n",
       "11  hip tight consistent practice hey issue matter...           51   \n",
       "\n",
       "   title_wcount  selftext_length  selftext_wcount  \n",
       "0             8             1041              222  \n",
       "11            8             1372              266  \n",
       "\n",
       "[2 rows x 22 columns]"
      ]
     },
     "execution_count": 57,
     "metadata": {},
     "output_type": "execute_result"
    }
   ],
   "source": [
    "# show first 2 rows of the datasets with yoga enthusiasts and with top predictor of 'pose'\n",
    "print(yoga_medit[(yoga_medit['lem_combine_text'].str.contains('pose'))&(yoga_medit['is_yoga']==1)].shape)\n",
    "yoga_medit[(yoga_medit['lem_combine_text'].str.contains('pose'))&(yoga_medit['is_yoga']==1)].head(2)"
   ]
  },
  {
   "cell_type": "code",
   "execution_count": 58,
   "id": "81ecccd1",
   "metadata": {},
   "outputs": [
    {
     "name": "stdout",
     "output_type": "stream",
     "text": [
      "(153, 22)\n"
     ]
    },
    {
     "data": {
      "text/html": [
       "<div>\n",
       "<style scoped>\n",
       "    .dataframe tbody tr th:only-of-type {\n",
       "        vertical-align: middle;\n",
       "    }\n",
       "\n",
       "    .dataframe tbody tr th {\n",
       "        vertical-align: top;\n",
       "    }\n",
       "\n",
       "    .dataframe thead th {\n",
       "        text-align: right;\n",
       "    }\n",
       "</style>\n",
       "<table border=\"1\" class=\"dataframe\">\n",
       "  <thead>\n",
       "    <tr style=\"text-align: right;\">\n",
       "      <th></th>\n",
       "      <th>is_yoga</th>\n",
       "      <th>title</th>\n",
       "      <th>selftext</th>\n",
       "      <th>is_self</th>\n",
       "      <th>num_comments</th>\n",
       "      <th>created_utc</th>\n",
       "      <th>created</th>\n",
       "      <th>removed_by_category</th>\n",
       "      <th>author</th>\n",
       "      <th>permalink</th>\n",
       "      <th>...</th>\n",
       "      <th>clean_title</th>\n",
       "      <th>clean_selftext</th>\n",
       "      <th>combine_text</th>\n",
       "      <th>lem_title</th>\n",
       "      <th>lem_selftext</th>\n",
       "      <th>lem_combine_text</th>\n",
       "      <th>title_length</th>\n",
       "      <th>title_wcount</th>\n",
       "      <th>selftext_length</th>\n",
       "      <th>selftext_wcount</th>\n",
       "    </tr>\n",
       "  </thead>\n",
       "  <tbody>\n",
       "    <tr>\n",
       "      <th>0</th>\n",
       "      <td>1</td>\n",
       "      <td>Extremely sore after my first hot vinyasa class</td>\n",
       "      <td>I am super out of shape so I am 90% sure that ...</td>\n",
       "      <td>True</td>\n",
       "      <td>0</td>\n",
       "      <td>1640903618</td>\n",
       "      <td>2021-12-31 06:33:38</td>\n",
       "      <td>NaN</td>\n",
       "      <td>meggriffinsglasses</td>\n",
       "      <td>/r/yoga/comments/rse7eh/extremely_sore_after_m...</td>\n",
       "      <td>...</td>\n",
       "      <td>extremely sore after my first hot vinyasa class</td>\n",
       "      <td>i am super out of shape so i am 90 sure that i...</td>\n",
       "      <td>extremely sore after my first hot vinyasa clas...</td>\n",
       "      <td>extremely sore hot vinyasa class</td>\n",
       "      <td>super shape 90 sure issue wanted know normal p...</td>\n",
       "      <td>extremely sore hot vinyasa class super shape 9...</td>\n",
       "      <td>47</td>\n",
       "      <td>8</td>\n",
       "      <td>1041</td>\n",
       "      <td>222</td>\n",
       "    </tr>\n",
       "    <tr>\n",
       "      <th>3</th>\n",
       "      <td>1</td>\n",
       "      <td>My heart is so full.</td>\n",
       "      <td>I just came from a 75 minute class and I was s...</td>\n",
       "      <td>True</td>\n",
       "      <td>0</td>\n",
       "      <td>1640885021</td>\n",
       "      <td>2021-12-31 01:23:41</td>\n",
       "      <td>NaN</td>\n",
       "      <td>nachosmmm</td>\n",
       "      <td>/r/yoga/comments/rs6zpd/my_heart_is_so_full/</td>\n",
       "      <td>...</td>\n",
       "      <td>my heart is so full</td>\n",
       "      <td>i just came from a 75 minute class and i was s...</td>\n",
       "      <td>my heart is so full i just came from a 75 minu...</td>\n",
       "      <td>heart</td>\n",
       "      <td>came 75 minute class sobbing end teacher amazi...</td>\n",
       "      <td>heart came 75 minute class sobbing end teacher...</td>\n",
       "      <td>19</td>\n",
       "      <td>5</td>\n",
       "      <td>1017</td>\n",
       "      <td>206</td>\n",
       "    </tr>\n",
       "    <tr>\n",
       "      <th>5</th>\n",
       "      <td>1</td>\n",
       "      <td>Sacred cacao ceremony</td>\n",
       "      <td>I am usually a straight up hot yoga girl.\\n\\nT...</td>\n",
       "      <td>True</td>\n",
       "      <td>0</td>\n",
       "      <td>1640868870</td>\n",
       "      <td>2021-12-30 20:54:30</td>\n",
       "      <td>NaN</td>\n",
       "      <td>morncuppacoffee</td>\n",
       "      <td>/r/yoga/comments/rs15aq/sacred_cacao_ceremony/</td>\n",
       "      <td>...</td>\n",
       "      <td>sacred cacao ceremony</td>\n",
       "      <td>i am usually a straight up hot yoga girl the s...</td>\n",
       "      <td>sacred cacao ceremony i am usually a straight ...</td>\n",
       "      <td>sacred cacao ceremony</td>\n",
       "      <td>usually straight hot girl studio i’ve joined t...</td>\n",
       "      <td>sacred cacao ceremony usually straight hot gir...</td>\n",
       "      <td>21</td>\n",
       "      <td>3</td>\n",
       "      <td>503</td>\n",
       "      <td>99</td>\n",
       "    </tr>\n",
       "  </tbody>\n",
       "</table>\n",
       "<p>3 rows × 22 columns</p>\n",
       "</div>"
      ],
      "text/plain": [
       "   is_yoga                                            title  \\\n",
       "0        1  Extremely sore after my first hot vinyasa class   \n",
       "3        1                             My heart is so full.   \n",
       "5        1                            Sacred cacao ceremony   \n",
       "\n",
       "                                            selftext  is_self  num_comments  \\\n",
       "0  I am super out of shape so I am 90% sure that ...     True             0   \n",
       "3  I just came from a 75 minute class and I was s...     True             0   \n",
       "5  I am usually a straight up hot yoga girl.\\n\\nT...     True             0   \n",
       "\n",
       "   created_utc              created  removed_by_category              author  \\\n",
       "0   1640903618  2021-12-31 06:33:38                  NaN  meggriffinsglasses   \n",
       "3   1640885021  2021-12-31 01:23:41                  NaN           nachosmmm   \n",
       "5   1640868870  2021-12-30 20:54:30                  NaN     morncuppacoffee   \n",
       "\n",
       "                                           permalink  ...  \\\n",
       "0  /r/yoga/comments/rse7eh/extremely_sore_after_m...  ...   \n",
       "3       /r/yoga/comments/rs6zpd/my_heart_is_so_full/  ...   \n",
       "5     /r/yoga/comments/rs15aq/sacred_cacao_ceremony/  ...   \n",
       "\n",
       "                                       clean_title  \\\n",
       "0  extremely sore after my first hot vinyasa class   \n",
       "3                              my heart is so full   \n",
       "5                            sacred cacao ceremony   \n",
       "\n",
       "                                      clean_selftext  \\\n",
       "0  i am super out of shape so i am 90 sure that i...   \n",
       "3  i just came from a 75 minute class and i was s...   \n",
       "5  i am usually a straight up hot yoga girl the s...   \n",
       "\n",
       "                                        combine_text  \\\n",
       "0  extremely sore after my first hot vinyasa clas...   \n",
       "3  my heart is so full i just came from a 75 minu...   \n",
       "5  sacred cacao ceremony i am usually a straight ...   \n",
       "\n",
       "                          lem_title  \\\n",
       "0  extremely sore hot vinyasa class   \n",
       "3                             heart   \n",
       "5             sacred cacao ceremony   \n",
       "\n",
       "                                        lem_selftext  \\\n",
       "0  super shape 90 sure issue wanted know normal p...   \n",
       "3  came 75 minute class sobbing end teacher amazi...   \n",
       "5  usually straight hot girl studio i’ve joined t...   \n",
       "\n",
       "                                    lem_combine_text title_length  \\\n",
       "0  extremely sore hot vinyasa class super shape 9...           47   \n",
       "3  heart came 75 minute class sobbing end teacher...           19   \n",
       "5  sacred cacao ceremony usually straight hot gir...           21   \n",
       "\n",
       "  title_wcount  selftext_length  selftext_wcount  \n",
       "0            8             1041              222  \n",
       "3            5             1017              206  \n",
       "5            3              503               99  \n",
       "\n",
       "[3 rows x 22 columns]"
      ]
     },
     "execution_count": 58,
     "metadata": {},
     "output_type": "execute_result"
    }
   ],
   "source": [
    "# show first 3 rows of the datasets with yoga enthusiasts and with top predictor of 'class'\n",
    "print(yoga_medit[(yoga_medit['lem_combine_text'].str.contains('class'))&(yoga_medit['is_yoga']==1)].shape)\n",
    "yoga_medit[(yoga_medit['lem_combine_text'].str.contains('class'))&(yoga_medit['is_yoga']==1)].head(3)"
   ]
  },
  {
   "cell_type": "code",
   "execution_count": 59,
   "id": "30b3b74c",
   "metadata": {},
   "outputs": [
    {
     "name": "stdout",
     "output_type": "stream",
     "text": [
      "(12, 22)\n"
     ]
    },
    {
     "data": {
      "text/html": [
       "<div>\n",
       "<style scoped>\n",
       "    .dataframe tbody tr th:only-of-type {\n",
       "        vertical-align: middle;\n",
       "    }\n",
       "\n",
       "    .dataframe tbody tr th {\n",
       "        vertical-align: top;\n",
       "    }\n",
       "\n",
       "    .dataframe thead th {\n",
       "        text-align: right;\n",
       "    }\n",
       "</style>\n",
       "<table border=\"1\" class=\"dataframe\">\n",
       "  <thead>\n",
       "    <tr style=\"text-align: right;\">\n",
       "      <th></th>\n",
       "      <th>is_yoga</th>\n",
       "      <th>title</th>\n",
       "      <th>selftext</th>\n",
       "      <th>is_self</th>\n",
       "      <th>num_comments</th>\n",
       "      <th>created_utc</th>\n",
       "      <th>created</th>\n",
       "      <th>removed_by_category</th>\n",
       "      <th>author</th>\n",
       "      <th>permalink</th>\n",
       "      <th>...</th>\n",
       "      <th>clean_title</th>\n",
       "      <th>clean_selftext</th>\n",
       "      <th>combine_text</th>\n",
       "      <th>lem_title</th>\n",
       "      <th>lem_selftext</th>\n",
       "      <th>lem_combine_text</th>\n",
       "      <th>title_length</th>\n",
       "      <th>title_wcount</th>\n",
       "      <th>selftext_length</th>\n",
       "      <th>selftext_wcount</th>\n",
       "    </tr>\n",
       "  </thead>\n",
       "  <tbody>\n",
       "    <tr>\n",
       "      <th>24</th>\n",
       "      <td>1</td>\n",
       "      <td>Downward Dog is NOT a Beginner Pose</td>\n",
       "      <td>I would really love to get into Yoga and pract...</td>\n",
       "      <td>True</td>\n",
       "      <td>0</td>\n",
       "      <td>1640746883</td>\n",
       "      <td>2021-12-29 11:01:23</td>\n",
       "      <td>NaN</td>\n",
       "      <td>Studly_Wonderballs</td>\n",
       "      <td>/r/yoga/comments/rqxehh/downward_dog_is_not_a_...</td>\n",
       "      <td>...</td>\n",
       "      <td>downward dog is not a beginner pose</td>\n",
       "      <td>i would really love to get into yoga and pract...</td>\n",
       "      <td>downward dog is not a beginner pose i would re...</td>\n",
       "      <td>downward dog beginner pose</td>\n",
       "      <td>really love practice regularly beginner video ...</td>\n",
       "      <td>downward dog beginner pose really love practic...</td>\n",
       "      <td>35</td>\n",
       "      <td>7</td>\n",
       "      <td>1167</td>\n",
       "      <td>232</td>\n",
       "    </tr>\n",
       "    <tr>\n",
       "      <th>130</th>\n",
       "      <td>1</td>\n",
       "      <td>Do you guys learn the original names of the as...</td>\n",
       "      <td>as an Indian, its interesting how westernized ...</td>\n",
       "      <td>True</td>\n",
       "      <td>0</td>\n",
       "      <td>1640089270</td>\n",
       "      <td>2021-12-21 20:21:10</td>\n",
       "      <td>NaN</td>\n",
       "      <td>Drenuous</td>\n",
       "      <td>/r/yoga/comments/rldjbf/do_you_guys_learn_the_...</td>\n",
       "      <td>...</td>\n",
       "      <td>do you guys learn the original names of the as...</td>\n",
       "      <td>as an indian its interesting how westernized y...</td>\n",
       "      <td>do you guys learn the original names of the as...</td>\n",
       "      <td>guy learn original name asanasyoga posture pra...</td>\n",
       "      <td>indian interesting westernized year noticed as...</td>\n",
       "      <td>guy learn original name asanasyoga posture pra...</td>\n",
       "      <td>76</td>\n",
       "      <td>13</td>\n",
       "      <td>1005</td>\n",
       "      <td>174</td>\n",
       "    </tr>\n",
       "    <tr>\n",
       "      <th>236</th>\n",
       "      <td>1</td>\n",
       "      <td>I think I accidentally got a yoga teacher fired.</td>\n",
       "      <td>(I'm a guy, if that's relevant to the story. I...</td>\n",
       "      <td>True</td>\n",
       "      <td>0</td>\n",
       "      <td>1639418348</td>\n",
       "      <td>2021-12-14 01:59:08</td>\n",
       "      <td>NaN</td>\n",
       "      <td>BigBobbert</td>\n",
       "      <td>/r/yoga/comments/rflr2o/i_think_i_accidentally...</td>\n",
       "      <td>...</td>\n",
       "      <td>i think i accidentally got a yoga teacher fired</td>\n",
       "      <td>im a guy if thats relevant to the story it mig...</td>\n",
       "      <td>i think i accidentally got a yoga teacher fire...</td>\n",
       "      <td>think accidentally got teacher fired</td>\n",
       "      <td>guy thats relevant story know started going ne...</td>\n",
       "      <td>think accidentally got teacher fired guy thats...</td>\n",
       "      <td>47</td>\n",
       "      <td>9</td>\n",
       "      <td>1808</td>\n",
       "      <td>343</td>\n",
       "    </tr>\n",
       "  </tbody>\n",
       "</table>\n",
       "<p>3 rows × 22 columns</p>\n",
       "</div>"
      ],
      "text/plain": [
       "     is_yoga                                              title  \\\n",
       "24         1                Downward Dog is NOT a Beginner Pose   \n",
       "130        1  Do you guys learn the original names of the as...   \n",
       "236        1   I think I accidentally got a yoga teacher fired.   \n",
       "\n",
       "                                              selftext  is_self  num_comments  \\\n",
       "24   I would really love to get into Yoga and pract...     True             0   \n",
       "130  as an Indian, its interesting how westernized ...     True             0   \n",
       "236  (I'm a guy, if that's relevant to the story. I...     True             0   \n",
       "\n",
       "     created_utc              created  removed_by_category  \\\n",
       "24    1640746883  2021-12-29 11:01:23                  NaN   \n",
       "130   1640089270  2021-12-21 20:21:10                  NaN   \n",
       "236   1639418348  2021-12-14 01:59:08                  NaN   \n",
       "\n",
       "                 author                                          permalink  \\\n",
       "24   Studly_Wonderballs  /r/yoga/comments/rqxehh/downward_dog_is_not_a_...   \n",
       "130            Drenuous  /r/yoga/comments/rldjbf/do_you_guys_learn_the_...   \n",
       "236          BigBobbert  /r/yoga/comments/rflr2o/i_think_i_accidentally...   \n",
       "\n",
       "     ...                                        clean_title  \\\n",
       "24   ...                downward dog is not a beginner pose   \n",
       "130  ...  do you guys learn the original names of the as...   \n",
       "236  ...    i think i accidentally got a yoga teacher fired   \n",
       "\n",
       "                                        clean_selftext  \\\n",
       "24   i would really love to get into yoga and pract...   \n",
       "130  as an indian its interesting how westernized y...   \n",
       "236  im a guy if thats relevant to the story it mig...   \n",
       "\n",
       "                                          combine_text  \\\n",
       "24   downward dog is not a beginner pose i would re...   \n",
       "130  do you guys learn the original names of the as...   \n",
       "236  i think i accidentally got a yoga teacher fire...   \n",
       "\n",
       "                                             lem_title  \\\n",
       "24                          downward dog beginner pose   \n",
       "130  guy learn original name asanasyoga posture pra...   \n",
       "236               think accidentally got teacher fired   \n",
       "\n",
       "                                          lem_selftext  \\\n",
       "24   really love practice regularly beginner video ...   \n",
       "130  indian interesting westernized year noticed as...   \n",
       "236  guy thats relevant story know started going ne...   \n",
       "\n",
       "                                      lem_combine_text title_length  \\\n",
       "24   downward dog beginner pose really love practic...           35   \n",
       "130  guy learn original name asanasyoga posture pra...           76   \n",
       "236  think accidentally got teacher fired guy thats...           47   \n",
       "\n",
       "    title_wcount  selftext_length  selftext_wcount  \n",
       "24             7             1167              232  \n",
       "130           13             1005              174  \n",
       "236            9             1808              343  \n",
       "\n",
       "[3 rows x 22 columns]"
      ]
     },
     "execution_count": 59,
     "metadata": {},
     "output_type": "execute_result"
    }
   ],
   "source": [
    "# show first 3 rows of the datasets with yoga enthusiasts and with top predictor of 'class'\n",
    "print(yoga_medit[(yoga_medit['lem_combine_text'].str.contains('class')) & \n",
    "           (yoga_medit['lem_combine_text'].str.contains('practice')) &\n",
    "           (yoga_medit['lem_combine_text'].str.contains('pose')) &\n",
    "           (yoga_medit['is_yoga']==1)].shape)\n",
    "\n",
    "yoga_medit[(yoga_medit['lem_combine_text'].str.contains('class')) & \n",
    "           (yoga_medit['lem_combine_text'].str.contains('practice')) &\n",
    "           (yoga_medit['lem_combine_text'].str.contains('pose')) &\n",
    "           (yoga_medit['is_yoga']==1)].head(3)"
   ]
  },
  {
   "cell_type": "code",
   "execution_count": 60,
   "id": "2b4bcbba",
   "metadata": {},
   "outputs": [
    {
     "data": {
      "text/plain": [
       "'my heart is so full i just came from a 75 minute class and i was sobbing at the end this teacher is so amazing the imagery at the end was just so beautiful she asked us to walk into a warmly lit cave or space in our hearts and as you walk deeper the light gets brighter and brighter you come to a door and you have the key and you unlock it the door opens and you are enveloped in lightlove i just had these feeling that this light was love and life and also death i did my yoga teacher training this year and there have been a few other times when i have cried in savasana and i can literally feel love in my heart another time i felt the love expanding all around me and that time i sobbed for quite some time i feel that this is literally a healing that trauma or some kind of energy is leaving the body and is being replaced with love maybe i need to share this on the spiritual subreddit as well but i just wanted to share yoga is so so amazing and beautiful i hope everyone can find what they are looking for through their practice'"
      ]
     },
     "execution_count": 60,
     "metadata": {},
     "output_type": "execute_result"
    }
   ],
   "source": [
    "# explore the combine_text that contains with 'practice'\n",
    "yoga_medit[(yoga_medit['lem_combine_text'].str.contains('practice'))&(yoga_medit['is_yoga']==1)]['combine_text'].values[1]"
   ]
  },
  {
   "cell_type": "code",
   "execution_count": 61,
   "id": "b1749553",
   "metadata": {},
   "outputs": [
    {
     "data": {
      "text/plain": [
       "'hips are always tight even with consistent practice hey everyone i have an issue  it seems that no matter how often i practice yoga and keep on top of my routine my hips are always tight i typically do a 45 minute hips focused routine twice a week that covers hamstrings lower back quads and hips it is very in depth and features multiple poses for each muscle group when i am done the routine my hips feel great and are very mobile then i exercise or go a few days between practice and it’s like i never did the yoga and am back to square one not even being able to sit cross legged without serious tightness in my hips i train jiu jitsu and hip mobility it critical to the art so it is important for me that i maintain good mobility however it is frustrating that it seems i make zero progress and am just as tight a year after starting my yoga practice is there something i am doing wrong i have tried various routines i take hot baths after exercise to keep my muscles from tightening up i stretch after exercise… but i can’t sit cross legged and folding forward while in a seated butterfly pose is impossible i have been doing yoga consistently for a year and see no progress i still do it because it feel that it is at least keeping me at a baseline however i expected that i would have made some progress by now friends of mine who never do yoga have better mobility than me i would appreciate your thoughts thank you'"
      ]
     },
     "execution_count": 61,
     "metadata": {},
     "output_type": "execute_result"
    }
   ],
   "source": [
    "# explore the combine_text that contains with 'pose'\n",
    "yoga_medit[(yoga_medit['lem_combine_text'].str.contains('pose'))&(yoga_medit['is_yoga']==1)]['combine_text'].values[1]"
   ]
  },
  {
   "cell_type": "code",
   "execution_count": 62,
   "id": "219544b2",
   "metadata": {},
   "outputs": [
    {
     "data": {
      "text/plain": [
       "'extremely sore after my first hot vinyasa class i am super out of shape so i am 90 sure that is the issue but i wanted to know if this is normal for a person who has never done yoga in their life i used the search bar but most of people who asked about muscle soreness stated that they had done yoga before and vinyasa made them feel sore for the first time i am a complete newbie to yoga i had a wonderful time and plan to go back in a few days but i just wanted to know if this is something i should be concerned about while i was doing the poses i felt fine of course i wasn’t able to do every pose perfectly but nothing hurt and it was a very satisfying challenge what caught me off guard was the way i felt when i woke up this morning i felt like i got hit by a car or something i am assuming this is just because it’s my first time exercising in a really long time i didn’t even feel sore like this when i used to lift weights should i be worried i took a nap and when i woke up i did feel a bit better but i’m still walking like a penguin and my entire body is definitely still sore'"
      ]
     },
     "execution_count": 62,
     "metadata": {},
     "output_type": "execute_result"
    }
   ],
   "source": [
    "# explore the combine_text that contains with 'class'\n",
    "yoga_medit[(yoga_medit['lem_combine_text'].str.contains('class'))&(yoga_medit['is_yoga']==1)]['combine_text'].values[0]"
   ]
  },
  {
   "cell_type": "code",
   "execution_count": 63,
   "id": "630b20de",
   "metadata": {},
   "outputs": [
    {
     "data": {
      "text/plain": [
       "'downward dog is not a beginner pose i would really love to get into yoga and practice it regularly but every beginner video is always the same it starts with a few simple poses that i find difficult but power through and then about ten minutes in they break into downward dog and every pose from then on is a variation of downward dog for the life of me i do not know how they expect a beginner to be able to jump into that pose on their first day i do not have the flexibility in my back to make that pose i do not have the strength or flexibility in my shoulders to do that pose and i absolutely do not have the flexibility in my calves and hamstrings to do that pose i cant do it at all im just planking with my butt slightly in the air and i can only hold it for 20 seconds i dont think ive ever seen a beginner even come close to doing anything like it so two things 1 if youre an instructor take downward dog out of your beginner classes dont make it the foundational pose for every other pose and slowly work up to it 2 what are some modifications i can do for when invariably the class starts doing downward dog which nobody in the class can do except the instructor signed a frustrated beginner'"
      ]
     },
     "execution_count": 63,
     "metadata": {},
     "output_type": "execute_result"
    }
   ],
   "source": [
    "# explore the combine_text that contains with top 3 predictors\n",
    "yoga_medit[(yoga_medit['lem_combine_text'].str.contains('class')) & \n",
    "           (yoga_medit['lem_combine_text'].str.contains('practice')) &\n",
    "           (yoga_medit['lem_combine_text'].str.contains('pose')) &\n",
    "           (yoga_medit['is_yoga']==1)]['combine_text'].values[0]"
   ]
  },
  {
   "cell_type": "code",
   "execution_count": 74,
   "id": "247f2600",
   "metadata": {},
   "outputs": [
    {
     "data": {
      "text/plain": [
       "'struggling with yin yoga a bit of background info i have been running and lifting weights for about a decade and began practicing yoga 4 years ago this began with classes at my local gym and since covid hit i’ve “attended” a lot of youtube video classes i try to practice a few times a week i’ve always been a big fan of hot and vinyasa classes sweaty challenging fast paced classes with lots of planks chaturangas and abdominal work i try to throw in the occasional yin practice in an effort to rest but find it very difficult mentally it is very uncomfortable for me to be still in a pose for even a few minutes and hard to stop my mind from racing has anyone else had this experience with gentler styles of yoga does it get easier'"
      ]
     },
     "execution_count": 74,
     "metadata": {},
     "output_type": "execute_result"
    }
   ],
   "source": [
    "# explore the combine_text that contains with top 3 predictors\n",
    "yoga_medit[(yoga_medit['lem_combine_text'].str.contains('class')) & \n",
    "           (yoga_medit['lem_combine_text'].str.contains('practice')) &\n",
    "           (yoga_medit['lem_combine_text'].str.contains('pose')) &\n",
    "           (yoga_medit['is_yoga']==1)]['combine_text'].values[6]"
   ]
  },
  {
   "cell_type": "markdown",
   "id": "406dc9d9",
   "metadata": {},
   "source": [
    "From the 4 posts above which consists of r/yoga top 3 predictors `class`, `practice` and `pose`, it revealed that it consists of sharing of feeling after yoga class / self practice at home. However most of the users have concern or challenges faced when practicing the yoga by themself especially for beginner. They may have the issue with the correct yoga posture and most of them may lead to body soreness, hip tight or the other parts of the body. Some of them may find it too difficult for beginner to practice some yoga pose eg. downward dog. "
   ]
  },
  {
   "cell_type": "markdown",
   "id": "ca8a6d92",
   "metadata": {},
   "source": [
    "*__Top Unique Predictors and Top Commonality__*  \n",
    "\n",
    "From the top 20 predictors of both subreddits, it revealed that some differences and similarities among r/yoga and r /Meditation. At this section, we will identify the top unique predictors of r/yoga and top commonality between r/yoga and r/Meditation."
   ]
  },
  {
   "cell_type": "code",
   "execution_count": 64,
   "id": "53e355ed",
   "metadata": {},
   "outputs": [
    {
     "data": {
      "image/png": "[encoded data removed]",
      "text/plain": [
       "<Figure size 432x288 with 1 Axes>"
      ]
     },
     "metadata": {},
     "output_type": "display_data"
    }
   ],
   "source": [
    "# plot a venn diagram to show numbers of similarity and difference words in top 50 predictors\n",
    "venn2([set(yoga_prob_df.head(50)['index'].values), \n",
    "       set(meditation_prob_df.head(50)['index'].values)], set_labels = ('r/yoga','r/Meditation'))\n",
    "plt.title('top 50 Predictors', fontsize=14)\n",
    "plt.tight_layout()"
   ]
  },
  {
   "cell_type": "code",
   "execution_count": 65,
   "id": "497dc774",
   "metadata": {},
   "outputs": [
    {
     "name": "stdout",
     "output_type": "stream",
     "text": [
      "Numbers of Unique Words: 22\n",
      "['pose', 'class', 'teacher', 'mat', 'week', 'pain', 'studio', 'video', 'thanks', 'leg', 'stretch', 'flexibility', 'dog', 'looking', 'long', 'hip', 'beginner', 'hi', 'able', 'practicing', 'knee', 'instructor']\n"
     ]
    }
   ],
   "source": [
    "# idenfity the unique words from r/yoga\n",
    "yoga_unique_list = []\n",
    "for unique in yoga_prob_df.head(50)['index'].values:\n",
    "    if unique not in meditation_prob_df.head(50)['index'].values:\n",
    "        yoga_unique_list.append(unique)\n",
    "\n",
    "print(f\"Numbers of Unique Words: {len(yoga_unique_list)}\")        \n",
    "print(yoga_unique_list)"
   ]
  },
  {
   "cell_type": "markdown",
   "id": "9d3a09ec",
   "metadata": {},
   "source": [
    "We decided to check further on top 50 predictors on both r/yoga and r/Meditation and find out the unique predictors of r/yoga that does not occur in r/Meditation.\n",
    "\n",
    "From venn diagram above, we found that there was 22 unique predictors of r/yoga that does not occur in r/Meditation and 28 predictors in commonality. At one glace, it shows that mainly unique predictors are those yoga poses related eg. `pose`, `dog`, `hip`, `stretch`, `knee` and `leg`. While others like `teacher`, `instructor`, `studo`, `class`, `video`, `beginner` and `practicing` are those popular discussions topics in the subreddit community."
   ]
  },
  {
   "cell_type": "code",
   "execution_count": 66,
   "id": "fab9b64f",
   "metadata": {},
   "outputs": [
    {
     "name": "stdout",
     "output_type": "stream",
     "text": [
      "Numbers of Common Words: 28\n",
      "['practice', 'time', 'feel', 'day', 'know', 'year', 've', 'want', 'body', 'really', 'help', 'thing', 'way', 'good', 'started', 'start', 'new', 'work', 'lot', 'love', 'experience', 'people', 'need', 'make', 'right', 'think', 'month', 'going']\n"
     ]
    }
   ],
   "source": [
    "# idenfity the commonality words between r/yoga and r/Meditation\n",
    "common_list = []\n",
    "for common in yoga_prob_df.head(50)['index'].values:\n",
    "    if common in meditation_prob_df.head(50)['index'].values:\n",
    "        common_list.append(common)\n",
    "\n",
    "print(f\"Numbers of Common Words: {len(common_list)}\")        \n",
    "print(common_list)"
   ]
  },
  {
   "cell_type": "code",
   "execution_count": 67,
   "id": "8cc5586d",
   "metadata": {},
   "outputs": [],
   "source": [
    "# identify the top unique predictors in r/yoga against r/Meditation\n",
    "top_unique_yoga = yoga_prob_df[yoga_prob_df['index'].isin(yoga_unique_list)]\n",
    "\n",
    "# identify the top commonality predictors between r/yoga and r/Meditation\n",
    "top_common = yoga_prob_df[yoga_prob_df['index'].isin(common_list)]"
   ]
  },
  {
   "cell_type": "code",
   "execution_count": 68,
   "id": "f598ec92",
   "metadata": {},
   "outputs": [
    {
     "data": {
      "image/png": "[encoded data removed]",
      "text/plain": [
       "<Figure size 1296x720 with 2 Axes>"
      ]
     },
     "metadata": {},
     "output_type": "display_data"
    }
   ],
   "source": [
    "# plot the top unique and commonality predictors\n",
    "plt.figure(figsize=(18,10))\n",
    "sns.set(font_scale = 1.5)\n",
    "\n",
    "palette1 = sns.color_palette(\"flare\",n_colors=22)\n",
    "palette1.reverse()\n",
    "palette2 = sns.color_palette(\"Blues_d\",n_colors=28)\n",
    "palette2.reverse()\n",
    "\n",
    "ax1 = plt.subplot(1,2,1)\n",
    "ax1 = sns.barplot(y='index',x='prob', data=top_unique_yoga, palette=palette1)\n",
    "ax1 = plt.xlabel('Probabilities',fontsize = 20)\n",
    "ax1 = plt.title(\"Top Unique Predictors (r/yoga)\", fontsize = 20)\n",
    "\n",
    "ax2 = plt.subplot(1,2,2)\n",
    "ax2 = sns.barplot(y='index',x='prob', data=top_common, palette=palette2)\n",
    "ax2 = plt.xlabel(\"Probabilities\", fontsize = 20)\n",
    "ax2 = plt.title(\"Top Commonality Predictors (r/yoga & r/Meditation)\", fontsize = 20)\n",
    "    \n",
    "plt.suptitle('Top Unique and Common Predictors on r/yoga & r/Meditation', fontsize=25)\n",
    "plt.subplots_adjust(wspace=0.4)"
   ]
  },
  {
   "cell_type": "markdown",
   "id": "b2704b1d",
   "metadata": {},
   "source": [
    "From bar plots above, we able to clearly see that there was 2 predictors `pose` and `class` with high probabilities among the Top Unique Predictors for r/yoga. Which clearly distinct from r/Meditation and shows that yoga tend to be more claass-based and focusing on body posture where meditation tend to be more self practice and mind focus.\n",
    "\n",
    "There are 2 trending words that we identify from the Top Unique Predictors are `yoga` and `flexibility`, both words are not in top 20 predictors, however their probabilities are in top 50 hence it shows that Yoga Enthusiasts are looking not only correct posture but also gaining `flexibility` is their concern in Yoga. Besides that, due to COVID pandemic, lot of government may have implement the safety distance measurements, work from home and avoid crowds are a norms in many countries, hence `video` become more and more in needs by Yoga Enthusiasts so that they able to self practice at home and at their convenience. \n",
    "\n",
    "From the Top Commonality Predictors between subreddits, it shows that the top 3 common predictors are `practice`, `time` and `feel`. It revealead that both yoga and meditation need lot of practicing and time spent, hence the posts mostly will be discussing on the practice issue, the time needed for the session and the feel eg. physical body feel for yoga and psychologically as well as mentally feel for meditation.\n"
   ]
  },
  {
   "cell_type": "markdown",
   "id": "fcfaf3f8",
   "metadata": {},
   "source": [
    "## 8.0 Conclusions and Recommendations"
   ]
  },
  {
   "cell_type": "markdown",
   "id": "5336ffaf",
   "metadata": {},
   "source": [
    "### 8.1 Findings"
   ]
  },
  {
   "cell_type": "markdown",
   "id": "8ef6a44e",
   "metadata": {},
   "source": [
    "1) Classifying the subreddits as Yoga Enthusiasts, our best model is Multinomial Naive Bayes with Counter Vectorizer can provide 90.67% accuracy in classifying yoga or non-yoga enthusiasts. Recall score of 85.17% and F1-score of 88.34%.\n",
    "\n",
    "\n",
    "2) There is a limitation on the final model we build (Multinomial Naive Bayes):\n",
    "    \n",
    "- The accuracy of the model restricted to the total numbers of 3000 posts scrapped from subreddit between from 2021-12-31 to 2021-11-07 on r/yoga and r/Meditation only. In order to test our model generalizability on new data, we need to have more data for model testing and evaluation.   \n",
    "- we also added in `yoga` and `meditation` into stop words listing, it further reduce the overall accuracy score of the model.   \n",
    "- The text classifier model currently build to classify on binary classes. It has not yet be able to classify multi classes.\n",
    "    \n",
    "    \n",
    "3) From EDA, we find that yoga enthusiasts prefer to post the subreddit using non-text post for example like videos and images. While on the other hand, r/Meditation community prefer text posting and it have average longer posting in words and length as compared to r/yoga. r/yoga prefer to leave comments on the post rather than using the upvote system.\n",
    "\n",
    "\n",
    "4) From our Sentiment Analysis, it revealed that both r/yoga and r/Meditation have positive sentiment in average where r/yoga have slightly higher in positive sentiment (0.401) in average as compared to r/Meditation (0.393). It also shows that the users in r/yoga community have positive sentiment towards `yoga` where we may infer that about 70% of the r/yoga community users have high willingness and acceptance on yoga and high chances to be 'Yoga Enthusiasts' that our Marketing Team can target on.  \n",
    "\n",
    "\n",
    "5) We manage to identify top predictors from the text classifier model, Top 3 meaningful highest probabilities predictors are `class`, `pose` and `practice` which are all good predictors to indicate as Yoga Enthusiasts' posts. We also noticed that `mat`, `teacher`, `feel`, `body` and `pain` are in the list as well. From the Venn Diagram, we found that there was total 22 unique predictors of r/yoga, Those unique predictors with yoga poses related eg. `dog`, `hip`, `stretch`, `knee` and `leg`. Out of these unique predictors, we able to identified 2 trending words `video` and `flexibility`. Besides that, there was 28 predictors in common between subreddits where top 3 are `practice`, `time` and `feel`. Our marketing team can also explore the common interest on the new segment that potentially can be converted to our member. "
   ]
  },
  {
   "cell_type": "markdown",
   "id": "46ac8da7",
   "metadata": {},
   "source": [
    "### 8.2 Recommendations"
   ]
  },
  {
   "cell_type": "markdown",
   "id": "ed75a3e7",
   "metadata": {},
   "source": [
    "Based on our text classifier model and findings from this project, we manage to accomplish the two goals specified in our problem statement:\n",
    " \n",
    "1) Our text classifier able to achieve 90.67% accuracy, 85.17% Recall score and 88.34% of F1-score in identifying Yoga Enthusiasts from the subreddit posts. This will allow our Marketing Team to maximize the marketing resources on the correct target segment (Yoga Enthusiasts). This approach will be more efficient, effective and cost-saving as compared to traditional approach that required lot of time and manpower resources to conduct research. With the high accuracy score, our marketing resources can be maximized to spent on the right segment.\n",
    "\n",
    "\n",
    "2) Our Marketing Team can develop the Marketing Strategies and yoga packages that base on our top highest probabilities words as a predictor. When targeting on Yoga Enthusiasts, the team can target on below key words:\n",
    "\n",
    "    1. practice\n",
    "    2. pose\n",
    "    3. class\n",
    "    4. mat\n",
    "    5. teacher\n",
    "    6. feel\n",
    "    7. body\n",
    "    8. pain\n",
    "\n",
    "From the predictors, we understand that the majority of it was about the yoga body posture and the effect or feeling after yoga that makes the concern and challenge by yoga enthusiasts. Our Marketing Team can develop the marketing strategies that emphasize on addressing these concerns. For example we will have additional co-instructor that able to provide guidance on body posture during the class when main instructor is doing the yoga. Besides that the team can provide a Complimentary Yoga Mat for new sign up with our yoga studio. \n",
    "\n",
    "3) Our Text Classifier Model can also identify the trending words that Marketing Team used it for improving or expanding existing product and services and develop marketing trend that factor in what is on trending. In this project we manage to identify `video` and `flexibility`. In view of COVID pandemic, Yoga Enthusiasts are looking for videos for self practicing at home and at their convenience, hence the Marketing Team can provide the package for new sign up to have the exclusive yoga videos access via website or phone app 24/7 anywhere as a member privilege. Another trending word `flexibility` are those Yoga Enthusiasts ultimately want to improve. The team also can modify the yoga class that not only targeting correct body posture, but also improving in flexibility which the key word will attract the eyeball of Yoga Enthusiasts.\n",
    "\n",
    "*__Additional Recommendations:__*\n",
    "\n",
    "4) Both r/yoga and r/Meditation consists of 28 commonality in predictors where the Marketing Team can also take these predictors to develop a marketing strategy that can explore new potential segment on r/Meditation users by identifying their common interest. Potentially the new segment can also be converted to join our Yoga Studio."
   ]
  },
  {
   "cell_type": "markdown",
   "id": "c38651a7",
   "metadata": {},
   "source": [
    "### 8.3 Future Enhancements"
   ]
  },
  {
   "cell_type": "markdown",
   "id": "c9360b78",
   "metadata": {},
   "source": [
    "- Our project is to focus on datasets scrapped from Reddit submissions posts (before December 31, 2021 12:00:00 AM), we will try to scrap more posts for training as well as testing our models accuracy by using different period of posts.\n",
    "\n",
    "- Besides __submissions__ posts, we will also want to scrap the data from __Hot__ and __Top__ sections of subreddit as both sections should have exist for some time and have more trending discussions and hot topics to explore.\n",
    "\n",
    "- We will also wish to conduct sentiment analysis on the comments sections on each posts, this allow us to understand better on the yoga enthusiasts sentiments.\n",
    "\n",
    "- We will also update those less meaningful words into our stop words listing for our text classifier in order to further identify more meaningful predictors.\n",
    "\n",
    "- Other than the models (Logistic Regression, Multinomial Naive Bayes, Random Forest Classifier) we used in this project, we would also like to explore on the other classification models eg. Support Vector Machine (SVM), Gradient Boosting Classifier and Deep Learning Models to check if the outcome will be better off.\n"
   ]
  },
  {
   "cell_type": "markdown",
   "id": "7e115690",
   "metadata": {},
   "source": [
    "### 8.4 Citations"
   ]
  },
  {
   "cell_type": "markdown",
   "id": "6e9deec4",
   "metadata": {},
   "source": [
    "1. https://praw.readthedocs.io/en/stable/code_overview/models/submission.html\n",
    "2. https://www.epochconverter.com/\n",
    "3. https://www.web2generators.com/html-based-tools/online-html-entities-encoder-and-decoder\n",
    "4. https://towardsdatascience.com/stemming-vs-lemmatization-2daddabcb221\n",
    "5. https://blog.bitext.com/what-is-the-difference-between-stemming-and-lemmatization/\n",
    "6. https://www.techopedia.com/definition/31605/upvote\n",
    "7. https://theyogainstitute.org/difference-between-yoga-and-meditation/\n",
    "8. https://towardsai.net/p/machine-learning/why-choose-random-forest-and-not-decision-trees\n",
    "9. https://github.com/pushshift/api\n",
    "10. https://www.ukessays.com/essays/marketing/traditional-way-of-segmenting-the-market-marketing-essay.php\n",
    "11. https://timesofindia.indiatimes.com/life-style/health-fitness/fitness/alert-ways-yoga-can-harm-you/articleshow/46878232.cms#:~:text=Incorrect%20postures%20could%20lead%20to,metabolism%2C%20heart%20rate%20and%20respiration."
   ]
  },
  {
   "cell_type": "code",
   "execution_count": null,
   "id": "013698f6",
   "metadata": {},
   "outputs": [],
   "source": []
  }
 ],
 "metadata": {
  "kernelspec": {
   "display_name": "Python 3 (ipykernel)",
   "language": "python",
   "name": "python3"
  },
  "language_info": {
   "codemirror_mode": {
    "name": "ipython",
    "version": 3
   },
   "file_extension": ".py",
   "mimetype": "text/x-python",
   "name": "python",
   "nbconvert_exporter": "python",
   "pygments_lexer": "ipython3",
   "version": "3.9.7"
  }
 },
 "nbformat": 4,
 "nbformat_minor": 5
}
