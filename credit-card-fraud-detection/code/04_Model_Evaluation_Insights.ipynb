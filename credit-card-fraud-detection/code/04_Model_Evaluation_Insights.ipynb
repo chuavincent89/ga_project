{
 "cells": [
  {
   "cell_type": "code",
   "execution_count": null,
   "id": "aba9637d",
   "metadata": {},
   "outputs": [],
   "source": []
  },
  {
   "cell_type": "markdown",
   "id": "2475c98f",
   "metadata": {},
   "source": [
    "## Future Enhancements"
   ]
  },
  {
   "cell_type": "markdown",
   "id": "0aeb75c1",
   "metadata": {},
   "source": [
    "1. Collect more data\n",
    "2. Neural Network"
   ]
  },
  {
   "cell_type": "markdown",
   "id": "1607671f",
   "metadata": {},
   "source": [
    "## Citations"
   ]
  },
  {
   "cell_type": "markdown",
   "id": "d283b407",
   "metadata": {},
   "source": [
    "1. https://www.kaggle.com/kartik2112/fraud-detection\n",
    "2. https://towardsdatascience.com/recency-frequency-monetary-model-with-python-and-how-sephora-uses-it-to-optimize-their-google-d6a0707c5f17\n",
    "3. https://www.ravelin.com/insights/machine-learning-for-fraud-detection"
   ]
  },
  {
   "cell_type": "code",
   "execution_count": null,
   "id": "6ffd7e0c",
   "metadata": {},
   "outputs": [],
   "source": []
  }
 ],
 "metadata": {
  "kernelspec": {
   "display_name": "Python 3 (ipykernel)",
   "language": "python",
   "name": "python3"
  },
  "language_info": {
   "codemirror_mode": {
    "name": "ipython",
    "version": 3
   },
   "file_extension": ".py",
   "mimetype": "text/x-python",
   "name": "python",
   "nbconvert_exporter": "python",
   "pygments_lexer": "ipython3",
   "version": "3.9.7"
  }
 },
 "nbformat": 4,
 "nbformat_minor": 5
}
