{
 "cells": [
  {
   "cell_type": "markdown",
   "id": "4786e852",
   "metadata": {},
   "source": [
    "<img src=\"http://imgur.com/1ZcRyrc.png\" style=\"float: left; margin: 20px; height: 55px\">\n",
    "\n",
    "# Project 4: West Nile Virus Prediction"
   ]
  },
  {
   "cell_type": "markdown",
   "id": "cf364d0c",
   "metadata": {},
   "source": [
    "--- \n",
    "# Notebook 3\n",
    "\n",
    "This notebook consists of:\n",
    "- Cost benefit analysis of carring out regular spray excercises\n",
    "- Conclusions and recommendations\n",
    "---"
   ]
  },
  {
   "cell_type": "markdown",
   "id": "6ec514e6",
   "metadata": {},
   "source": [
    "# 1. Cost Benefit Analysis\n",
    "\n",
    "## 1.1 Economical Impact of West Nile Virus\n",
    "\n",
    "In the first 14 years since the virus was first detected in the USA in New York alone, hospitalised cases of WNV disease have cost close to \\\\$800 million in health care expenditures and lost productivity.<sup>1</sup>\n",
    "\n",
    "## 1.2 Spray Costs\n",
    "\n",
    "### 1.2.1 Pesticide Used\n",
    "The pesticide used for the spray is **Zenifex E4**.<sup>2</sup><br>\n",
    "It has a cost of **\\\\$0.92 / acre**.<sup>3</sup>\n",
    "\n",
    "### 1.2.2 Spray Plan\n",
    "\n",
    "For the sake of a 'worst case' calculation, we will assume that spray will be carried out at the locations all traps:\n",
    "- 1km radius of spray for each trap\n",
    "- Spray will be carried out from dusk till 1am.<sup>2</sup> In the summer months, dusk is around 8pm. Therefore the spray will be carried out over the course of approximately 5 hours."
   ]
  },
  {
   "cell_type": "code",
   "execution_count": 2,
   "id": "0f57837b",
   "metadata": {},
   "outputs": [],
   "source": [
    "# import the original train and test datasets\n",
    "import pandas as pd\n",
    "train = pd.read_csv('../assets/train.csv')\n",
    "test = pd.read_csv('../assets/test.csv')"
   ]
  },
  {
   "cell_type": "code",
   "execution_count": 4,
   "id": "6a671f56",
   "metadata": {},
   "outputs": [
    {
     "name": "stdout",
     "output_type": "stream",
     "text": [
      "(126799,)\n"
     ]
    },
    {
     "data": {
      "text/plain": [
       "0    T002\n",
       "1    T002\n",
       "2    T007\n",
       "3    T015\n",
       "4    T015\n",
       "Name: Trap, dtype: object"
      ]
     },
     "execution_count": 4,
     "metadata": {},
     "output_type": "execute_result"
    }
   ],
   "source": [
    "traps = pd.concat([train['Trap'], test['Trap']], axis=0)\n",
    "print(traps.shape)\n",
    "traps.head()"
   ]
  },
  {
   "cell_type": "code",
   "execution_count": 7,
   "id": "444e58dd",
   "metadata": {},
   "outputs": [
    {
     "name": "stdout",
     "output_type": "stream",
     "text": [
      "There are 149 unique traps.\n"
     ]
    }
   ],
   "source": [
    "unique_traps = len(traps.unique())\n",
    "print(f'There are {unique_traps} unique traps.')"
   ]
  },
  {
   "cell_type": "markdown",
   "id": "b49080e9",
   "metadata": {},
   "source": [
    "### 1.2.3 Labor Cost\n",
    "- Typical pest control worker makes \\\\$19.65 / hour <sup>4</sup> - we will round this up to \\\\$20 / hour.\n",
    "- One worker will handle one trap area of 1km radius.\n",
    "\n",
    "### 1.2.4 Other Assumptions\n",
    "\n",
    "- 1 acre = 0.00404686 km<sup>2</sup>\n",
    "- Sprays will be conducted at each trap location 7 times a year, following 2013's schedule\n",
    "\n",
    "### 1.2.5 Spray Cost Calculation"
   ]
  },
  {
   "cell_type": "code",
   "execution_count": 8,
   "id": "7d9af6b0",
   "metadata": {},
   "outputs": [
    {
     "name": "stdout",
     "output_type": "stream",
     "text": [
      "The total spray area is 468.1 km²\n"
     ]
    }
   ],
   "source": [
    "# Total spray area in square km\n",
    "import math\n",
    "total_spray_area_km = round(math.pi*unique_traps,2)\n",
    "print(f'The total spray area is {total_spray_area_km} km\\u00b2')"
   ]
  },
  {
   "cell_type": "code",
   "execution_count": 9,
   "id": "d66292ce",
   "metadata": {},
   "outputs": [
    {
     "name": "stdout",
     "output_type": "stream",
     "text": [
      "The total spray area is 115669.93 acres\n"
     ]
    }
   ],
   "source": [
    "# Total spray area in acres\n",
    "total_spray_area = round(total_spray_area_km/0.00404686,2)\n",
    "print(f'The total spray area is {total_spray_area} acres')"
   ]
  },
  {
   "cell_type": "code",
   "execution_count": 10,
   "id": "d7a2f6dd",
   "metadata": {},
   "outputs": [
    {
     "name": "stdout",
     "output_type": "stream",
     "text": [
      "The zenivex cost is $106416.34.\n"
     ]
    }
   ],
   "source": [
    "# zenivex cost for total spray area\n",
    "pesticide_cost = round(0.92*total_spray_area,2)\n",
    "print(f'The zenivex cost is ${pesticide_cost}.')"
   ]
  },
  {
   "cell_type": "code",
   "execution_count": 11,
   "id": "60347074",
   "metadata": {},
   "outputs": [
    {
     "name": "stdout",
     "output_type": "stream",
     "text": [
      "The labor cost is $13600.\n"
     ]
    }
   ],
   "source": [
    "# labor cost\n",
    "labor = 5*20*136\n",
    "print(f'The labor cost is ${labor}.')"
   ]
  },
  {
   "cell_type": "code",
   "execution_count": 12,
   "id": "4e9b210d",
   "metadata": {},
   "outputs": [
    {
     "name": "stdout",
     "output_type": "stream",
     "text": [
      "The total cost for 1 spray session is $120016.34.\n"
     ]
    }
   ],
   "source": [
    "# one spray session cost\n",
    "total_cost = labor + pesticide_cost\n",
    "print(f'The total cost for 1 spray session is ${total_cost}.')"
   ]
  },
  {
   "cell_type": "code",
   "execution_count": 13,
   "id": "aa220ef5",
   "metadata": {},
   "outputs": [
    {
     "name": "stdout",
     "output_type": "stream",
     "text": [
      "The annual cost of spraying is $840114.38.\n"
     ]
    }
   ],
   "source": [
    "# 7 sprays per year\n",
    "annual_cost = round(total_cost*7,2)\n",
    "print(f'The annual cost of spraying is ${annual_cost}.')"
   ]
  },
  {
   "cell_type": "markdown",
   "id": "7b8622a0",
   "metadata": {},
   "source": [
    "## 1.3 Hospitalisation and Productivity Loss\n",
    "\n",
    "### 1.3.1 Assumptions\n",
    "- We will assume that not spraying will result 200 annual cases (225 cases in Chicago in 2002, when there were no spray efforts). <sup>5</sup>\n",
    "- Of all WNV patients, only 1 in 150 cases will develop severe symptoms.<sup>6</sup> Therefore, we will assume all cases as non-severe. (conservative assumption). Non-severe cases incur a mean cost of \\\\$7,500 <sup>7</sup> in terms of medical bills and productivity loss.\n",
    "\n",
    "### 1.3.2 Benefit Calculation"
   ]
  },
  {
   "cell_type": "code",
   "execution_count": 14,
   "id": "930353bd",
   "metadata": {},
   "outputs": [
    {
     "name": "stdout",
     "output_type": "stream",
     "text": [
      "The annual cost if no spray is carried out is $1500000.\n"
     ]
    }
   ],
   "source": [
    "human_cost_annual = 7500*200\n",
    "print(f'The annual cost if no spray is carried out is ${human_cost_annual}.')"
   ]
  },
  {
   "cell_type": "code",
   "execution_count": 15,
   "id": "738a970f",
   "metadata": {},
   "outputs": [
    {
     "name": "stdout",
     "output_type": "stream",
     "text": [
      "Spraying saves about $659885.62 annually.\n"
     ]
    }
   ],
   "source": [
    "savings = human_cost_annual - annual_cost\n",
    "print(f'Spraying saves about ${savings} annually.')"
   ]
  },
  {
   "cell_type": "markdown",
   "id": "b6230012",
   "metadata": {},
   "source": [
    "Even with a conservative estimate, the savings by conducting regular spray exercises will result in **$659,885.62** in annual savings."
   ]
  },
  {
   "cell_type": "markdown",
   "id": "f7fc0379",
   "metadata": {},
   "source": [
    "# References\n",
    "1. https://www.ajtmh.org/view/journals/tpmd/90/3/article-p402.xml\n",
    "2. https://www.chicago.gov/city/en/depts/cdph/provdrs/healthy_communities/news/2020/august/city-to-spray-insecticide-thursday-to-kill-mosquitoes.html\n",
    "3. https://www.centralmosquitocontrol.com/-/media/files/centralmosquitocontrol-na/us/resources-lit%20files/2015%20zenivex%20pricing%20brochure.pdf\n",
    "4. https://www.indeed.com/career/pest-control-technician/salaries/Chicago--IL\n",
    "5. https://idph.illinois.gov/envhealth/wnvsurveillance_humancases_02.htm\n",
    "6. https://www.sciencedaily.com/releases/2014/02/140210184713.htm\n",
    "7. https://www.ncbi.nlm.nih.gov/pmc/articles/PMC3945683/table/T4/?report=objectonly"
   ]
  },
  {
   "cell_type": "markdown",
   "id": "3442113e",
   "metadata": {},
   "source": [
    "# 2. Conclusions and Recommendations"
   ]
  },
  {
   "cell_type": "markdown",
   "id": "8df814c1",
   "metadata": {},
   "source": [
    "Using the given dataset, we analysed the number of WNV cases in Chicago, the clustering traps for mosquito, location of the pesticide spraying, the impact of pesticide spraying vs the WNV outbreak, location with high mosquito count and WNV cluster and effect of weather on the number of mosquito and WNV. Based on our findings, we discovered some useful insights about how the features contributed to the outbreak of West Nile Virus (WNV).\n",
    "\n",
    "For instant, the feature 'month' gives a significant indicator in relationship with the number of WNV cases which indicated that the highest numbers of WNV present mostly appeared during the month of July, August and September. This could be due to July to September being the summer period for Chicago.\n",
    "\n",
    "Based on the scores returned from Pycaret, the best model is Light Gradient Boosting Machine with highest AUC score 0.8260. The higher the AUC score, the better the model's performance at distinguishing between the positive and negative classes.\n",
    "\n",
    "## 2.1 Further Research\n",
    "\n",
    "We suggest to expand the study to other states and establish better insight on the number of mosquitos caught per trap, the life cycles of the mosquito and the weather pattern as to how, when and where to get a better predict target spraying model.\n",
    "\n",
    "## 2.2 Better Adoption\n",
    "\n",
    "Despite of spraying the pesticide, the best way to prevent WNV disease is to reduce the number of mosquitos around the home and to take personal precautions to avoid mosquito bites. Precautions include:\n",
    "  * change water in vases/bowls on alternate days\n",
    "  * turn over all water storage containers\n",
    "  * remove water from flower pot plates on alternate days\n",
    "  * cover bamboo pole holders when not in use.\n",
    "  * clear blockages and put BTI insecticide in roof gutters monthly\n",
    "  * spray insecticide in the dark corner around the house\n",
    "  * apply insect repellent and wear covered clothes\n",
    "\n",
    "## 2.3 Drone used in mosquito control\n",
    "\n",
    "Recommend the use of drones in mosquito control with surveillance of nuisance mosquitos and potential vectors of pathogens. The insecticide application using drone to conduct surveillance and control in remote areas that are difficult to reach have been carried out by the GDG drone under the nuisance-reduction programme. The project was completed to nearly one thousand hectares of area producing mosquito larvae.\n",
    "\n",
    "- [Source](https://sensorsandsystems.com/west-nile-virus-and-mosquito-nuisance-prevention-with-a-uav/?utm_source=rss&utm_medium=rss&utm_campaign=west-nile-virus-and-mosquito-nuisance-prevention-with-a-uav): West Nile Virus and Mosquito Nuisance Prevention with a UAV | Sensors and Systems\n",
    "- [Source](https://www.terminix.com/blog/science-nature/drones-in-mosquito-control/): Mosquito Drone Technology | Terminix"
   ]
  },
  {
   "cell_type": "code",
   "execution_count": null,
   "id": "2a537ccf",
   "metadata": {},
   "outputs": [],
   "source": []
  }
 ],
 "metadata": {
  "kernelspec": {
   "display_name": "Python 3",
   "language": "python",
   "name": "python3"
  },
  "language_info": {
   "codemirror_mode": {
    "name": "ipython",
    "version": 3
   },
   "file_extension": ".py",
   "mimetype": "text/x-python",
   "name": "python",
   "nbconvert_exporter": "python",
   "pygments_lexer": "ipython3",
   "version": "3.8.8"
  }
 },
 "nbformat": 4,
 "nbformat_minor": 5
}
